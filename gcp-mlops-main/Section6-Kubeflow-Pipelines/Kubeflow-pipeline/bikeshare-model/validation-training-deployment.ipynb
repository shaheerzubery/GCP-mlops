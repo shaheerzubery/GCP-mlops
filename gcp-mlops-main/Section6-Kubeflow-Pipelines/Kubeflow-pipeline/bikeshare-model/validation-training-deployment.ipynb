{
 "cells": [
  {
   "cell_type": "code",
   "execution_count": 56,
   "id": "2d86ec8b-d357-4c8c-89c8-ebc5e9f2b8ca",
   "metadata": {},
   "outputs": [],
   "source": [
    "from typing import NamedTuple\n",
    "from kfp.v2 import dsl\n",
    "from kfp.v2.dsl import (Artifact,\n",
    "                        Dataset,\n",
    "                        Input,\n",
    "                        Model,\n",
    "                        Output,\n",
    "                        Metrics,\n",
    "                        ClassificationMetrics,\n",
    "                        component, \n",
    "                        OutputPath, \n",
    "                        InputPath)\n",
    "\n",
    "from kfp.v2 import compiler\n",
    "# from google.cloud import aiplatform\n",
    "from google.cloud.aiplatform import pipeline_jobs\n",
    "\n",
    "# PATH=%env PATH\n",
    "# %env PATH={PATH}:/home/jupyter/.local/bin\n",
    "\n",
    "# REGION=\"us-central1\"\n",
    "\n",
    "# PROJECT_ID= \"udemy-mlops\"\n",
    "\n",
    "# BUCKET_NAME = \"gs://sid-ml-ops\"\n",
    "\n",
    "# PIPELINE_ROOT = f\"{BUCKET_NAME}/bikeshare-kfpl/\"\n",
    "\n",
    "# USER_FLAG = \"--user\""
   ]
  },
  {
   "cell_type": "code",
   "execution_count": 52,
   "id": "1ba2dcb6-ef98-4e41-a1ca-927cde7f99fb",
   "metadata": {},
   "outputs": [],
   "source": [
    "from kfp.v2.dsl import component, OutputPath\n",
    "from typing import NamedTuple\n",
    "\n",
    "@component(\n",
    "packages_to_install=[\"google-cloud-aiplatform\",\"gcsfs\",\"scikit-learn\",\"pandas\",\"google-cloud-storage\",\"gsutil\"]\n",
    ")\n",
    "def custom_training_job_component(\n",
    "    output_path:Output[Artifact]\n",
    "):   \n",
    "    from google.cloud import aiplatform\n",
    "    from google.cloud import storage\n",
    "    \n",
    "    aiplatform.init(project=\"udemy-mlops\", location=\"us-central1\", staging_bucket=\"gs://sid-ml-ops\")\n",
    "    \n",
    "    bucket = \"sid-ml-ops\"\n",
    "    source_blob_name = \"model-training.py\"\n",
    "    \n",
    "    storage_client = storage.Client()\n",
    "    bucket = storage_client.bucket(bucket)\n",
    "    blob = bucket.blob(source_blob_name)\n",
    "    blob.download_to_filename(\"model-training.py\")\n",
    "    \n",
    "    job = aiplatform.CustomTrainingJob(\n",
    "        display_name=\"bikeshare-training-job\",\n",
    "        script_path=\"model-training.py\",\n",
    "        container_uri=\"us-docker.pkg.dev/vertex-ai/training/scikit-learn-cpu.0-23:latest\",\n",
    "        requirements=[\"gcsfs\"]\n",
    "    )\n",
    "    \n",
    "    job.run(\n",
    "        replica_count=1,\n",
    "        machine_type=\"n1-standard-4\",\n",
    "        sync=True\n",
    "    )\n",
    "\n",
    "    job.wait()\n",
    "    output_path = \"gs://sid-ml-ops/bike-share-rf-regression-artifact/\"\n"
   ]
  },
  {
   "cell_type": "code",
   "execution_count": 53,
   "id": "598f814e-d46a-4530-9864-fd3c04726f65",
   "metadata": {},
   "outputs": [],
   "source": [
    "@component(\n",
    "    packages_to_install=[\"google-cloud-aiplatform\"]\n",
    ")\n",
    "def deploy_model_component()-> NamedTuple(\"endpoint\", [(\"url\", str)]):\n",
    "    \n",
    "    from google.cloud import aiplatform\n",
    "    \n",
    "    aiplatform.init(project=\"udemy-mlops\", location=\"us-central1\", staging_bucket=\"gs://sid-ml-ops\")\n",
    "    \n",
    "    model = aiplatform.Model.upload(\n",
    "        display_name=\"bikeshare-model\",\n",
    "        artifact_uri=\"gs://sid-ml-ops/bike-share-rf-regression-artifact/\",\n",
    "        serving_container_image_uri=\"us-docker.pkg.dev/vertex-ai/prediction/sklearn-cpu.1-0:latest\",\n",
    "        sync=False\n",
    "    )\n",
    "    \n",
    "    DEPLOYED_NAME = \"bikeshare-ep-new\"\n",
    "    TRAFFIC_SPLIT = {\"0\": 100}\n",
    "    MIN_NODES = 1\n",
    "    MAX_NODES = 1\n",
    "\n",
    "    endpoint = model.deploy(\n",
    "        deployed_model_display_name=DEPLOYED_NAME,\n",
    "        traffic_split=TRAFFIC_SPLIT,\n",
    "        machine_type=\"n1-standard-4\",\n",
    "        min_replica_count=MIN_NODES,\n",
    "        max_replica_count=MAX_NODES\n",
    "    )"
   ]
  },
  {
   "cell_type": "code",
   "execution_count": 54,
   "id": "bf946ca4-b4d4-43f2-8008-610949846c6f",
   "metadata": {},
   "outputs": [],
   "source": [
    "@dsl.pipeline(\n",
    "    pipeline_root=\"gs://sid-ml-ops/bikeshare-pipeline-root\",\n",
    "    name=\"bikeshare-kubeflow-pipeline\",   \n",
    ")\n",
    "def pipeline(\n",
    "    project: str = \"udemy-mlops\",\n",
    "    region: str = \"us-central1\", \n",
    "    display_name: str = \"bikeshare-pipeline\"\n",
    "    ):\n",
    "    model_training = custom_training_job_component()\n",
    "    endpoint = deploy_model_component().after(model_training)"
   ]
  },
  {
   "cell_type": "code",
   "execution_count": null,
   "id": "0b9cc376-18e9-4ec6-9fa2-8995a687d1cd",
   "metadata": {},
   "outputs": [
    {
     "name": "stdout",
     "output_type": "stream",
     "text": [
      "Creating PipelineJob\n",
      "PipelineJob created. Resource name: projects/1090925531874/locations/us-central1/pipelineJobs/bikeshare-kubeflow-pipeline-20230710074923\n",
      "To use this PipelineJob in another session:\n",
      "pipeline_job = aiplatform.PipelineJob.get('projects/1090925531874/locations/us-central1/pipelineJobs/bikeshare-kubeflow-pipeline-20230710074923')\n",
      "View Pipeline Job:\n",
      "https://console.cloud.google.com/vertex-ai/locations/us-central1/pipelines/runs/bikeshare-kubeflow-pipeline-20230710074923?project=1090925531874\n",
      "PipelineJob projects/1090925531874/locations/us-central1/pipelineJobs/bikeshare-kubeflow-pipeline-20230710074923 current state:\n",
      "PipelineState.PIPELINE_STATE_RUNNING\n",
      "PipelineJob projects/1090925531874/locations/us-central1/pipelineJobs/bikeshare-kubeflow-pipeline-20230710074923 current state:\n",
      "PipelineState.PIPELINE_STATE_RUNNING\n",
      "PipelineJob projects/1090925531874/locations/us-central1/pipelineJobs/bikeshare-kubeflow-pipeline-20230710074923 current state:\n",
      "PipelineState.PIPELINE_STATE_RUNNING\n",
      "PipelineJob projects/1090925531874/locations/us-central1/pipelineJobs/bikeshare-kubeflow-pipeline-20230710074923 current state:\n",
      "PipelineState.PIPELINE_STATE_RUNNING\n",
      "PipelineJob projects/1090925531874/locations/us-central1/pipelineJobs/bikeshare-kubeflow-pipeline-20230710074923 current state:\n",
      "PipelineState.PIPELINE_STATE_RUNNING\n",
      "PipelineJob projects/1090925531874/locations/us-central1/pipelineJobs/bikeshare-kubeflow-pipeline-20230710074923 current state:\n",
      "PipelineState.PIPELINE_STATE_RUNNING\n",
      "PipelineJob projects/1090925531874/locations/us-central1/pipelineJobs/bikeshare-kubeflow-pipeline-20230710074923 current state:\n",
      "PipelineState.PIPELINE_STATE_RUNNING\n",
      "PipelineJob projects/1090925531874/locations/us-central1/pipelineJobs/bikeshare-kubeflow-pipeline-20230710074923 current state:\n",
      "PipelineState.PIPELINE_STATE_RUNNING\n"
     ]
    }
   ],
   "source": [
    "compiler.Compiler().compile(pipeline_func=pipeline,package_path='bikeshare-pipeline.json')\n",
    "\n",
    "start_pipeline = pipeline_jobs.PipelineJob(\n",
    "    display_name=\"bikeshare-pipeline\",\n",
    "    template_path=\"bikeshare-pipeline.json\",\n",
    "    enable_caching=False,\n",
    "    location=\"us-central1\",\n",
    ")\n",
    "\n",
    "start_pipeline.run()"
   ]
  },
  {
   "cell_type": "code",
   "execution_count": null,
   "id": "3a8fffb3-3722-4f5e-a86a-663892c03e88",
   "metadata": {},
   "outputs": [],
   "source": []
  },
  {
   "cell_type": "code",
   "execution_count": null,
   "id": "6c981027-47e7-46c8-aec8-1f6dbc1e48fa",
   "metadata": {},
   "outputs": [],
   "source": []
  },
  {
   "cell_type": "code",
   "execution_count": null,
   "id": "c365d56d-2501-4d59-8190-1861de5b26d7",
   "metadata": {},
   "outputs": [],
   "source": []
  },
  {
   "cell_type": "code",
   "execution_count": null,
   "id": "8f20b6cf-1c27-401f-b863-3729db1b1d0a",
   "metadata": {},
   "outputs": [],
   "source": []
  },
  {
   "cell_type": "code",
   "execution_count": null,
   "id": "15ba12f0-404f-46b6-91ba-249507ac5c53",
   "metadata": {},
   "outputs": [],
   "source": []
  },
  {
   "cell_type": "code",
   "execution_count": null,
   "id": "2d04847f-c7e1-4cdc-949a-92b75f968be0",
   "metadata": {},
   "outputs": [],
   "source": []
  }
 ],
 "metadata": {
  "environment": {
   "kernel": "python3",
   "name": "common-cpu.m109",
   "type": "gcloud",
   "uri": "gcr.io/deeplearning-platform-release/base-cpu:m109"
  },
  "kernelspec": {
   "display_name": "Python 3",
   "language": "python",
   "name": "python3"
  },
  "language_info": {
   "codemirror_mode": {
    "name": "ipython",
    "version": 3
   },
   "file_extension": ".py",
   "mimetype": "text/x-python",
   "name": "python",
   "nbconvert_exporter": "python",
   "pygments_lexer": "ipython3",
   "version": "3.10.11"
  }
 },
 "nbformat": 4,
 "nbformat_minor": 5
}
