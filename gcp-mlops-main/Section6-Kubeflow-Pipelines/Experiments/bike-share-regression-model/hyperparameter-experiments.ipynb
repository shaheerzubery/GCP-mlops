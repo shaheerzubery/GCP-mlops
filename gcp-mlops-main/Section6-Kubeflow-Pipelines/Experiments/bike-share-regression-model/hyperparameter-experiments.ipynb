{
 "cells": [
  {
   "cell_type": "code",
   "execution_count": 1,
   "id": "1aa91634-5f53-4629-bbb6-4e53bd7d0c2d",
   "metadata": {},
   "outputs": [],
   "source": [
    "from kfp.v2 import dsl\n",
    "from kfp.v2.dsl import (Output,Metrics,component)\n",
    "from kfp.v2 import compiler"
   ]
  },
  {
   "cell_type": "code",
   "execution_count": 2,
   "id": "63c51077-9217-4168-8a9e-95e7392392b6",
   "metadata": {},
   "outputs": [],
   "source": [
    "@component(\n",
    "packages_to_install=[\"google-cloud-aiplatform\",\"gcsfs\",\"scikit-learn\",\"pandas\",\"google-cloud-storage\"]\n",
    ")\n",
    "def custom_training_job_component(\n",
    "    max_depth:int,\n",
    "    n_estimators:int,\n",
    "    metrics: Output[Metrics]\n",
    "):\n",
    "    import pandas as pd\n",
    "    import numpy as np\n",
    "    from sklearn.model_selection import train_test_split\n",
    "    from sklearn.ensemble import RandomForestRegressor\n",
    "    from sklearn.metrics import mean_squared_error\n",
    "    from google.cloud import storage\n",
    "    from joblib import dump\n",
    "    from sklearn.pipeline import make_pipeline\n",
    "    import logging\n",
    "\n",
    "    storage_client = storage.Client()\n",
    "    bucket = storage_client.bucket(\"sid-kubeflow-v1\")\n",
    "\n",
    "    def load_data(filename):\n",
    "        df = pd.read_csv(filename)\n",
    "        return df\n",
    "\n",
    "    def preprocess_data(df):\n",
    "        df = df.rename(columns={'weathersit':'weather',\n",
    "                                'yr':'year',\n",
    "                                'mnth':'month',\n",
    "                                'hr':'hour',\n",
    "                                'hum':'humidity',\n",
    "                                'cnt':'count'})\n",
    "        df = df.drop(columns=['instant', 'dteday', 'year'])\n",
    "        cols = ['season', 'month', 'hour', 'holiday', 'weekday', 'workingday', 'weather']\n",
    "        for col in cols:\n",
    "            df[col] = df[col].astype('category')\n",
    "        df['count'] = np.log(df['count'])\n",
    "        df_oh = df.copy()\n",
    "        for col in cols:\n",
    "            df_oh = one_hot_encoding(df_oh, col)\n",
    "        X = df_oh.drop(columns=['atemp', 'windspeed', 'casual', 'registered', 'count'], axis=1)\n",
    "        y = df_oh['count']\n",
    "        return X, y\n",
    "\n",
    "    def one_hot_encoding(data, column):\n",
    "        data = pd.concat([data, pd.get_dummies(data[column], prefix=column, drop_first=True)], axis=1)\n",
    "        data = data.drop([column], axis=1)\n",
    "        return data\n",
    "\n",
    "    def train_model(x_train,y_train,n_estimators,max_depth=None):\n",
    "        model = RandomForestRegressor(max_depth=max_depth, n_estimators=n_estimators)\n",
    "        pipeline = make_pipeline(model)\n",
    "        pipeline.fit(x_train, y_train)\n",
    "        return pipeline\n",
    "\n",
    "    filename = 'gs://sid-kubeflow-v1/bikeshare-model/hour.csv'\n",
    "    df = load_data(filename)\n",
    "    \n",
    "    X, y = preprocess_data(df)\n",
    "    X_train, X_test, y_train, y_test = train_test_split(X, y, test_size=0.25, random_state=42)\n",
    "    \n",
    "    pipeline = train_model(X_train, y_train, max_depth,n_estimators)\n",
    "    y_pred = pipeline.predict(X_test)\n",
    "    \n",
    "    rmse = np.sqrt(mean_squared_error(y_test, y_pred))\n",
    "    metrics.log_metric(\"rmse\",rmse)"
   ]
  },
  {
   "cell_type": "code",
   "execution_count": null,
   "id": "f18b6c09-2cf4-4ae5-94d2-29d3ac954367",
   "metadata": {},
   "outputs": [],
   "source": [
    "@dsl.pipeline(name=\"regression-hyperparam-experiment\")\n",
    "def pipeline(\n",
    "    max_depth:int,\n",
    "    n_estimators:int\n",
    "    ):\n",
    "    custom_training_job_component(max_depth,n_estimators)\n",
    "\n",
    "compiler.Compiler().compile(pipeline_func=pipeline, package_path=\"regression-hyperparam-experiment.json\")"
   ]
  },
  {
   "cell_type": "code",
   "execution_count": null,
   "id": "c46e8d77-7725-46e0-97c1-2c228f5d0922",
   "metadata": {},
   "outputs": [],
   "source": [
    "from google.cloud import aiplatform\n",
    "\n",
    "EXPERIMENT_NAME = \"regression-hyperparameter-experiment\"\n",
    "PIPELINE_ROOT = \"gs://sid-kubeflow-v1/regression-hyperparam-experiment\"\n",
    "\n",
    "runs = [\n",
    "    {\"max_depth\": 4,\"n_estimators\": 10},\n",
    "    {\"max_depth\": 5,\"n_estimators\": 20},\n",
    "    {\"max_depth\": 6,\"n_estimators\": 30}\n",
    "]\n",
    "\n",
    "for i, run in enumerate(runs):\n",
    "    job = aiplatform.PipelineJob(\n",
    "        display_name=f\"{EXPERIMENT_NAME}-pipeline-run-{i}\",\n",
    "        template_path=\"regression-hyperparam-experiment.json\",\n",
    "        pipeline_root=PIPELINE_ROOT,\n",
    "        parameter_values={\n",
    "            **run,\n",
    "        },\n",
    "    )\n",
    "    job.submit(experiment=EXPERIMENT_NAME)"
   ]
  },
  {
   "cell_type": "code",
   "execution_count": null,
   "id": "376f2305-8f7b-4f8d-93fd-f68f4a2f665f",
   "metadata": {},
   "outputs": [],
   "source": []
  },
  {
   "cell_type": "code",
   "execution_count": null,
   "id": "38763c03-0c3e-416e-8530-fbd8d9a5ec07",
   "metadata": {},
   "outputs": [],
   "source": []
  },
  {
   "cell_type": "code",
   "execution_count": null,
   "id": "69124454-e34e-4e61-b9e6-a773ab270f00",
   "metadata": {},
   "outputs": [],
   "source": []
  }
 ],
 "metadata": {
  "environment": {
   "kernel": "python3",
   "name": "common-cpu.m109",
   "type": "gcloud",
   "uri": "gcr.io/deeplearning-platform-release/base-cpu:m109"
  },
  "kernelspec": {
   "display_name": "Python 3",
   "language": "python",
   "name": "python3"
  },
  "language_info": {
   "codemirror_mode": {
    "name": "ipython",
    "version": 3
   },
   "file_extension": ".py",
   "mimetype": "text/x-python",
   "name": "python",
   "nbconvert_exporter": "python",
   "pygments_lexer": "ipython3",
   "version": "3.10.11"
  }
 },
 "nbformat": 4,
 "nbformat_minor": 5
}
