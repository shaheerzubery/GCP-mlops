{
 "cells": [
  {
   "cell_type": "code",
   "execution_count": 1,
   "id": "f07dce87-a06c-4862-bab5-b6096d338260",
   "metadata": {},
   "outputs": [],
   "source": [
    "import os\n",
    "from google.cloud import aiplatform\n",
    "\n",
    "BUCKET_URI = f\"gs://sid-ml-ops\" \n",
    "PROJECT_ID='udemy-mlops'\n",
    "REGION = \"us-central1\"\n",
    "aiplatform.init(project=PROJECT_ID, location=REGION)"
   ]
  },
  {
   "cell_type": "code",
   "execution_count": 10,
   "id": "d6e8d243-56dc-422e-8853-649a375015af",
   "metadata": {},
   "outputs": [],
   "source": [
    "# display_name = \"gsod_unique\"\n",
    "# IMPORT_FILE = \"bq://bigquery-public-data.samples.gsod\"\n",
    "\n",
    "# dataset = aiplatform.TabularDataset.create(\n",
    "#     display_name=\"NOAA historical weather data_unique\",\n",
    "#     bq_source=[IMPORT_FILE],\n",
    "# )\n",
    "\n",
    "# label_column = \"mean_temp\"\n",
    "\n",
    "# print(dataset.resource_name)"
   ]
  },
  {
   "cell_type": "code",
   "execution_count": null,
   "id": "d3e20f54-a6d2-44a5-9163-b7dc73ede7f0",
   "metadata": {},
   "outputs": [],
   "source": [
    "gcs_source = f\"{BUCKET_URI}/data/gsod_data.csv\"\n",
    "\n",
    "ds = dataset = aiplatform.TabularDataset.create(\n",
    "    display_name=\"NOAA historical weather data_unique\",\n",
    "    gcs_source=gcs_source,\n",
    ")"
   ]
  },
  {
   "cell_type": "code",
   "execution_count": 7,
   "id": "87f10f0c-aa92-40e6-a0b0-ae92a67c8940",
   "metadata": {},
   "outputs": [],
   "source": [
    "TRANSFORMATIONS = [\n",
    "    {\"auto\": {\"column_name\": \"year\"}},\n",
    "    {\"auto\": {\"column_name\": \"month\"}},\n",
    "    {\"auto\": {\"column_name\": \"day\"}},\n",
    "]\n",
    "\n",
    "label_column = \"mean_temp\""
   ]
  },
  {
   "cell_type": "code",
   "execution_count": 8,
   "id": "aa341fa5-0b2f-4486-b847-752197668e26",
   "metadata": {},
   "outputs": [
    {
     "name": "stdout",
     "output_type": "stream",
     "text": [
      "<google.cloud.aiplatform.training_jobs.AutoMLTabularTrainingJob object at 0x7ff7f5f91d20>\n"
     ]
    }
   ],
   "source": [
    "job = aiplatform.AutoMLTabularTrainingJob(\n",
    "    display_name=display_name,\n",
    "    optimization_prediction_type=\"regression\",\n",
    "    optimization_objective=\"minimize-rmse\",\n",
    "    column_transformations=TRANSFORMATIONS,\n",
    ")\n",
    "\n",
    "print(job)"
   ]
  },
  {
   "cell_type": "code",
   "execution_count": null,
   "id": "4815c52a-764f-480e-8f7f-96a1c35cbb5f",
   "metadata": {},
   "outputs": [
    {
     "name": "stdout",
     "output_type": "stream",
     "text": [
      "View Training:\n",
      "https://console.cloud.google.com/ai/platform/locations/us-central1/training/1032131974677921792?project=1090925531874\n",
      "AutoMLTabularTrainingJob projects/1090925531874/locations/us-central1/trainingPipelines/1032131974677921792 current state:\n",
      "PipelineState.PIPELINE_STATE_PENDING\n",
      "AutoMLTabularTrainingJob projects/1090925531874/locations/us-central1/trainingPipelines/1032131974677921792 current state:\n",
      "PipelineState.PIPELINE_STATE_PENDING\n",
      "AutoMLTabularTrainingJob projects/1090925531874/locations/us-central1/trainingPipelines/1032131974677921792 current state:\n",
      "PipelineState.PIPELINE_STATE_PENDING\n",
      "AutoMLTabularTrainingJob projects/1090925531874/locations/us-central1/trainingPipelines/1032131974677921792 current state:\n",
      "PipelineState.PIPELINE_STATE_PENDING\n",
      "AutoMLTabularTrainingJob projects/1090925531874/locations/us-central1/trainingPipelines/1032131974677921792 current state:\n",
      "PipelineState.PIPELINE_STATE_PENDING\n",
      "AutoMLTabularTrainingJob projects/1090925531874/locations/us-central1/trainingPipelines/1032131974677921792 current state:\n",
      "PipelineState.PIPELINE_STATE_RUNNING\n",
      "AutoMLTabularTrainingJob projects/1090925531874/locations/us-central1/trainingPipelines/1032131974677921792 current state:\n",
      "PipelineState.PIPELINE_STATE_RUNNING\n",
      "AutoMLTabularTrainingJob projects/1090925531874/locations/us-central1/trainingPipelines/1032131974677921792 current state:\n",
      "PipelineState.PIPELINE_STATE_RUNNING\n",
      "AutoMLTabularTrainingJob projects/1090925531874/locations/us-central1/trainingPipelines/1032131974677921792 current state:\n",
      "PipelineState.PIPELINE_STATE_RUNNING\n",
      "AutoMLTabularTrainingJob projects/1090925531874/locations/us-central1/trainingPipelines/1032131974677921792 current state:\n",
      "PipelineState.PIPELINE_STATE_RUNNING\n",
      "AutoMLTabularTrainingJob projects/1090925531874/locations/us-central1/trainingPipelines/1032131974677921792 current state:\n",
      "PipelineState.PIPELINE_STATE_RUNNING\n",
      "AutoMLTabularTrainingJob projects/1090925531874/locations/us-central1/trainingPipelines/1032131974677921792 current state:\n",
      "PipelineState.PIPELINE_STATE_RUNNING\n",
      "AutoMLTabularTrainingJob projects/1090925531874/locations/us-central1/trainingPipelines/1032131974677921792 current state:\n",
      "PipelineState.PIPELINE_STATE_RUNNING\n",
      "AutoMLTabularTrainingJob projects/1090925531874/locations/us-central1/trainingPipelines/1032131974677921792 current state:\n",
      "PipelineState.PIPELINE_STATE_RUNNING\n",
      "AutoMLTabularTrainingJob projects/1090925531874/locations/us-central1/trainingPipelines/1032131974677921792 current state:\n",
      "PipelineState.PIPELINE_STATE_RUNNING\n",
      "AutoMLTabularTrainingJob projects/1090925531874/locations/us-central1/trainingPipelines/1032131974677921792 current state:\n",
      "PipelineState.PIPELINE_STATE_RUNNING\n",
      "AutoMLTabularTrainingJob projects/1090925531874/locations/us-central1/trainingPipelines/1032131974677921792 current state:\n",
      "PipelineState.PIPELINE_STATE_RUNNING\n",
      "AutoMLTabularTrainingJob projects/1090925531874/locations/us-central1/trainingPipelines/1032131974677921792 current state:\n",
      "PipelineState.PIPELINE_STATE_RUNNING\n",
      "AutoMLTabularTrainingJob projects/1090925531874/locations/us-central1/trainingPipelines/1032131974677921792 current state:\n",
      "PipelineState.PIPELINE_STATE_RUNNING\n",
      "AutoMLTabularTrainingJob projects/1090925531874/locations/us-central1/trainingPipelines/1032131974677921792 current state:\n",
      "PipelineState.PIPELINE_STATE_RUNNING\n",
      "AutoMLTabularTrainingJob projects/1090925531874/locations/us-central1/trainingPipelines/1032131974677921792 current state:\n",
      "PipelineState.PIPELINE_STATE_RUNNING\n",
      "AutoMLTabularTrainingJob projects/1090925531874/locations/us-central1/trainingPipelines/1032131974677921792 current state:\n",
      "PipelineState.PIPELINE_STATE_RUNNING\n",
      "AutoMLTabularTrainingJob projects/1090925531874/locations/us-central1/trainingPipelines/1032131974677921792 current state:\n",
      "PipelineState.PIPELINE_STATE_RUNNING\n",
      "AutoMLTabularTrainingJob projects/1090925531874/locations/us-central1/trainingPipelines/1032131974677921792 current state:\n",
      "PipelineState.PIPELINE_STATE_RUNNING\n",
      "AutoMLTabularTrainingJob projects/1090925531874/locations/us-central1/trainingPipelines/1032131974677921792 current state:\n",
      "PipelineState.PIPELINE_STATE_RUNNING\n",
      "AutoMLTabularTrainingJob projects/1090925531874/locations/us-central1/trainingPipelines/1032131974677921792 current state:\n",
      "PipelineState.PIPELINE_STATE_RUNNING\n",
      "AutoMLTabularTrainingJob projects/1090925531874/locations/us-central1/trainingPipelines/1032131974677921792 current state:\n",
      "PipelineState.PIPELINE_STATE_RUNNING\n",
      "AutoMLTabularTrainingJob projects/1090925531874/locations/us-central1/trainingPipelines/1032131974677921792 current state:\n",
      "PipelineState.PIPELINE_STATE_RUNNING\n",
      "AutoMLTabularTrainingJob projects/1090925531874/locations/us-central1/trainingPipelines/1032131974677921792 current state:\n",
      "PipelineState.PIPELINE_STATE_RUNNING\n",
      "AutoMLTabularTrainingJob projects/1090925531874/locations/us-central1/trainingPipelines/1032131974677921792 current state:\n",
      "PipelineState.PIPELINE_STATE_RUNNING\n",
      "AutoMLTabularTrainingJob projects/1090925531874/locations/us-central1/trainingPipelines/1032131974677921792 current state:\n",
      "PipelineState.PIPELINE_STATE_RUNNING\n",
      "AutoMLTabularTrainingJob projects/1090925531874/locations/us-central1/trainingPipelines/1032131974677921792 current state:\n",
      "PipelineState.PIPELINE_STATE_RUNNING\n",
      "AutoMLTabularTrainingJob projects/1090925531874/locations/us-central1/trainingPipelines/1032131974677921792 current state:\n",
      "PipelineState.PIPELINE_STATE_RUNNING\n",
      "AutoMLTabularTrainingJob projects/1090925531874/locations/us-central1/trainingPipelines/1032131974677921792 current state:\n",
      "PipelineState.PIPELINE_STATE_RUNNING\n",
      "AutoMLTabularTrainingJob projects/1090925531874/locations/us-central1/trainingPipelines/1032131974677921792 current state:\n",
      "PipelineState.PIPELINE_STATE_RUNNING\n",
      "AutoMLTabularTrainingJob projects/1090925531874/locations/us-central1/trainingPipelines/1032131974677921792 current state:\n",
      "PipelineState.PIPELINE_STATE_RUNNING\n",
      "AutoMLTabularTrainingJob projects/1090925531874/locations/us-central1/trainingPipelines/1032131974677921792 current state:\n",
      "PipelineState.PIPELINE_STATE_RUNNING\n",
      "AutoMLTabularTrainingJob projects/1090925531874/locations/us-central1/trainingPipelines/1032131974677921792 current state:\n",
      "PipelineState.PIPELINE_STATE_RUNNING\n",
      "AutoMLTabularTrainingJob projects/1090925531874/locations/us-central1/trainingPipelines/1032131974677921792 current state:\n",
      "PipelineState.PIPELINE_STATE_RUNNING\n",
      "AutoMLTabularTrainingJob projects/1090925531874/locations/us-central1/trainingPipelines/1032131974677921792 current state:\n",
      "PipelineState.PIPELINE_STATE_RUNNING\n",
      "AutoMLTabularTrainingJob projects/1090925531874/locations/us-central1/trainingPipelines/1032131974677921792 current state:\n",
      "PipelineState.PIPELINE_STATE_RUNNING\n",
      "AutoMLTabularTrainingJob projects/1090925531874/locations/us-central1/trainingPipelines/1032131974677921792 current state:\n",
      "PipelineState.PIPELINE_STATE_RUNNING\n",
      "AutoMLTabularTrainingJob projects/1090925531874/locations/us-central1/trainingPipelines/1032131974677921792 current state:\n",
      "PipelineState.PIPELINE_STATE_RUNNING\n",
      "AutoMLTabularTrainingJob projects/1090925531874/locations/us-central1/trainingPipelines/1032131974677921792 current state:\n",
      "PipelineState.PIPELINE_STATE_RUNNING\n",
      "AutoMLTabularTrainingJob projects/1090925531874/locations/us-central1/trainingPipelines/1032131974677921792 current state:\n",
      "PipelineState.PIPELINE_STATE_RUNNING\n",
      "AutoMLTabularTrainingJob projects/1090925531874/locations/us-central1/trainingPipelines/1032131974677921792 current state:\n",
      "PipelineState.PIPELINE_STATE_RUNNING\n",
      "AutoMLTabularTrainingJob projects/1090925531874/locations/us-central1/trainingPipelines/1032131974677921792 current state:\n",
      "PipelineState.PIPELINE_STATE_RUNNING\n"
     ]
    }
   ],
   "source": [
    "model = job.run(\n",
    "    dataset=dataset,\n",
    "    model_display_name=display_name,\n",
    "    training_fraction_split=0.6,\n",
    "    validation_fraction_split=0.2,\n",
    "    test_fraction_split=0.2,\n",
    "    budget_milli_node_hours=1000,\n",
    "    disable_early_stopping=False,\n",
    "    target_column=label_column,\n",
    ")"
   ]
  },
  {
   "cell_type": "code",
   "execution_count": 14,
   "id": "3c8a1e4f-cb3c-4de1-8f8c-8af9d5a70268",
   "metadata": {},
   "outputs": [],
   "source": [
    "# MODEL_ID='6073181063323058176'\n",
    "# model = aiplatform.Model('projects/{}/locations/us-central1/models/{}'.format(PROJECT_ID,MODEL_ID))"
   ]
  },
  {
   "cell_type": "code",
   "execution_count": 15,
   "id": "39a63cea-08c1-4a2d-9e70-72e6b75f7600",
   "metadata": {},
   "outputs": [],
   "source": [
    "model_evaluations = model.list_model_evaluations()\n",
    "eval_res = model_evaluations[0].to_dict()\n",
    "evaluation_metrics = eval_res[\"metrics\"]"
   ]
  },
  {
   "cell_type": "code",
   "execution_count": 16,
   "id": "c7612182-0692-4a2a-a05f-07f75993a763",
   "metadata": {},
   "outputs": [
    {
     "data": {
      "text/plain": [
       "{'rSquared': 0.2674821,\n",
       " 'rootMeanSquaredLogError': 0.84486413,\n",
       " 'meanAbsoluteError': 15.600414,\n",
       " 'meanAbsolutePercentageError': 9897833.0,\n",
       " 'rootMeanSquaredError': 20.727612}"
      ]
     },
     "execution_count": 16,
     "metadata": {},
     "output_type": "execute_result"
    }
   ],
   "source": [
    "evaluation_metrics"
   ]
  },
  {
   "cell_type": "code",
   "execution_count": 12,
   "id": "73c97804-48dc-4a39-a694-6210d700d710",
   "metadata": {},
   "outputs": [
    {
     "name": "stdout",
     "output_type": "stream",
     "text": [
      "Creating Endpoint\n",
      "Create Endpoint backing LRO: projects/1090925531874/locations/us-central1/endpoints/1474227389545316352/operations/3348446870073507840\n",
      "Endpoint created. Resource name: projects/1090925531874/locations/us-central1/endpoints/1474227389545316352\n",
      "To use this Endpoint in another session:\n",
      "endpoint = aiplatform.Endpoint('projects/1090925531874/locations/us-central1/endpoints/1474227389545316352')\n",
      "Deploying model to Endpoint : projects/1090925531874/locations/us-central1/endpoints/1474227389545316352\n",
      "Deploy Endpoint model backing LRO: projects/1090925531874/locations/us-central1/endpoints/1474227389545316352/operations/3751519036723167232\n",
      "Endpoint model deployed. Resource name: projects/1090925531874/locations/us-central1/endpoints/1474227389545316352\n"
     ]
    }
   ],
   "source": [
    "endpoint = model.deploy(machine_type=\"n1-standard-4\")"
   ]
  },
  {
   "cell_type": "code",
   "execution_count": 13,
   "id": "7f6ccdbf-fe9d-4304-b0fc-f8c5d42522b2",
   "metadata": {},
   "outputs": [
    {
     "name": "stdout",
     "output_type": "stream",
     "text": [
      "Prediction(predictions=[{'lower_bound': 11.37252235412598, 'upper_bound': 60.95551300048828, 'value': 45.11862182617188}], deployed_model_id='2542152247278567424', model_version_id='1', model_resource_name='projects/1090925531874/locations/us-central1/models/6073181063323058176', explanations=None)\n"
     ]
    }
   ],
   "source": [
    "INSTANCE = {\"year\": \"1932\", \"month\": \"11\", \"day\": \"6\"}\n",
    "\n",
    "instances_list = [INSTANCE]\n",
    "\n",
    "prediction = endpoint.predict(instances_list)\n",
    "print(prediction)"
   ]
  },
  {
   "cell_type": "code",
   "execution_count": null,
   "id": "7d538349-af02-49c2-82e7-0977c5af0eb3",
   "metadata": {},
   "outputs": [],
   "source": []
  }
 ],
 "metadata": {
  "environment": {
   "kernel": "python3",
   "name": "common-cpu.m110",
   "type": "gcloud",
   "uri": "gcr.io/deeplearning-platform-release/base-cpu:m110"
  },
  "kernelspec": {
   "display_name": "Python 3",
   "language": "python",
   "name": "python3"
  },
  "language_info": {
   "codemirror_mode": {
    "name": "ipython",
    "version": 3
   },
   "file_extension": ".py",
   "mimetype": "text/x-python",
   "name": "python",
   "nbconvert_exporter": "python",
   "pygments_lexer": "ipython3",
   "version": "3.10.12"
  }
 },
 "nbformat": 4,
 "nbformat_minor": 5
}
