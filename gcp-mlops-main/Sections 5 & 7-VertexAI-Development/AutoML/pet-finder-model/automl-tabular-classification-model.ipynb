{
 "cells": [
  {
   "cell_type": "code",
   "execution_count": 3,
   "id": "f07dce87-a06c-4862-bab5-b6096d338260",
   "metadata": {},
   "outputs": [],
   "source": [
    "BUCKET_URI = f\"gs://sid-ml-ops\"\n",
    "PROJECT_ID='udemy-mlops'\n",
    "REGION = \"us-central1\"\n",
    "gcs_source = f\"{BUCKET_URI}/data_petfinder-tabular-classification.csv\""
   ]
  },
  {
   "cell_type": "code",
   "execution_count": 4,
   "id": "16b39392-8122-4760-8ce0-8de2cc26ae3b",
   "metadata": {},
   "outputs": [],
   "source": [
    "import os\n",
    "from google.cloud import aiplatform\n",
    "aiplatform.init(project=PROJECT_ID, location=REGION)"
   ]
  },
  {
   "cell_type": "code",
   "execution_count": 7,
   "id": "d6e8d243-56dc-422e-8853-649a375015af",
   "metadata": {},
   "outputs": [
    {
     "name": "stdout",
     "output_type": "stream",
     "text": [
      "Creating TabularDataset\n",
      "Create TabularDataset backing LRO: projects/1090925531874/locations/us-central1/datasets/7089440969178742784/operations/190842989147324416\n",
      "TabularDataset created. Resource name: projects/1090925531874/locations/us-central1/datasets/7089440969178742784\n",
      "To use this TabularDataset in another session:\n",
      "ds = aiplatform.TabularDataset('projects/1090925531874/locations/us-central1/datasets/7089440969178742784')\n"
     ]
    },
    {
     "data": {
      "text/plain": [
       "'projects/1090925531874/locations/us-central1/datasets/7089440969178742784'"
      ]
     },
     "execution_count": 7,
     "metadata": {},
     "output_type": "execute_result"
    }
   ],
   "source": [
    "ds = dataset = aiplatform.TabularDataset.create(\n",
    "    display_name=\"petfinder-tabular-dataset\",\n",
    "    gcs_source=gcs_source,\n",
    ")\n",
    "\n",
    "ds.resource_name"
   ]
  },
  {
   "cell_type": "code",
   "execution_count": 8,
   "id": "9ed11114-91b0-4cf4-b1f9-0dd5c01c6e16",
   "metadata": {},
   "outputs": [],
   "source": [
    "job = aiplatform.AutoMLTabularTrainingJob(\n",
    "    display_name=\"train-petfinder-automl-1\",\n",
    "    optimization_prediction_type=\"classification\",\n",
    "    column_transformations=[\n",
    "        {\"categorical\": {\"column_name\": \"Type\"}},\n",
    "        {\"numeric\": {\"column_name\": \"Age\"}},\n",
    "        {\"categorical\": {\"column_name\": \"Breed1\"}},\n",
    "        {\"categorical\": {\"column_name\": \"Color1\"}},\n",
    "        {\"categorical\": {\"column_name\": \"Color2\"}},\n",
    "        {\"categorical\": {\"column_name\": \"MaturitySize\"}},\n",
    "        {\"categorical\": {\"column_name\": \"FurLength\"}},\n",
    "        {\"categorical\": {\"column_name\": \"Vaccinated\"}},\n",
    "        {\"categorical\": {\"column_name\": \"Sterilized\"}},\n",
    "        {\"categorical\": {\"column_name\": \"Health\"}},\n",
    "        {\"numeric\": {\"column_name\": \"Fee\"}},\n",
    "        {\"numeric\": {\"column_name\": \"PhotoAmt\"}},\n",
    "    ],\n",
    ")"
   ]
  },
  {
   "cell_type": "code",
   "execution_count": null,
   "id": "87f10f0c-aa92-40e6-a0b0-ae92a67c8940",
   "metadata": {},
   "outputs": [
    {
     "name": "stdout",
     "output_type": "stream",
     "text": [
      "View Training:\n",
      "https://console.cloud.google.com/ai/platform/locations/us-central1/training/4063969317572575232?project=1090925531874\n",
      "AutoMLTabularTrainingJob projects/1090925531874/locations/us-central1/trainingPipelines/4063969317572575232 current state:\n",
      "PipelineState.PIPELINE_STATE_PENDING\n",
      "AutoMLTabularTrainingJob projects/1090925531874/locations/us-central1/trainingPipelines/4063969317572575232 current state:\n",
      "PipelineState.PIPELINE_STATE_PENDING\n",
      "AutoMLTabularTrainingJob projects/1090925531874/locations/us-central1/trainingPipelines/4063969317572575232 current state:\n",
      "PipelineState.PIPELINE_STATE_PENDING\n",
      "AutoMLTabularTrainingJob projects/1090925531874/locations/us-central1/trainingPipelines/4063969317572575232 current state:\n",
      "PipelineState.PIPELINE_STATE_PENDING\n",
      "AutoMLTabularTrainingJob projects/1090925531874/locations/us-central1/trainingPipelines/4063969317572575232 current state:\n",
      "PipelineState.PIPELINE_STATE_PENDING\n",
      "AutoMLTabularTrainingJob projects/1090925531874/locations/us-central1/trainingPipelines/4063969317572575232 current state:\n",
      "PipelineState.PIPELINE_STATE_RUNNING\n",
      "AutoMLTabularTrainingJob projects/1090925531874/locations/us-central1/trainingPipelines/4063969317572575232 current state:\n",
      "PipelineState.PIPELINE_STATE_RUNNING\n",
      "AutoMLTabularTrainingJob projects/1090925531874/locations/us-central1/trainingPipelines/4063969317572575232 current state:\n",
      "PipelineState.PIPELINE_STATE_RUNNING\n",
      "AutoMLTabularTrainingJob projects/1090925531874/locations/us-central1/trainingPipelines/4063969317572575232 current state:\n",
      "PipelineState.PIPELINE_STATE_RUNNING\n",
      "AutoMLTabularTrainingJob projects/1090925531874/locations/us-central1/trainingPipelines/4063969317572575232 current state:\n",
      "PipelineState.PIPELINE_STATE_RUNNING\n",
      "AutoMLTabularTrainingJob projects/1090925531874/locations/us-central1/trainingPipelines/4063969317572575232 current state:\n",
      "PipelineState.PIPELINE_STATE_RUNNING\n",
      "AutoMLTabularTrainingJob projects/1090925531874/locations/us-central1/trainingPipelines/4063969317572575232 current state:\n",
      "PipelineState.PIPELINE_STATE_RUNNING\n",
      "AutoMLTabularTrainingJob projects/1090925531874/locations/us-central1/trainingPipelines/4063969317572575232 current state:\n",
      "PipelineState.PIPELINE_STATE_RUNNING\n",
      "AutoMLTabularTrainingJob projects/1090925531874/locations/us-central1/trainingPipelines/4063969317572575232 current state:\n",
      "PipelineState.PIPELINE_STATE_RUNNING\n"
     ]
    }
   ],
   "source": [
    "model = job.run(\n",
    "    dataset=ds,\n",
    "    target_column=\"Adopted\",\n",
    "    training_fraction_split=0.8,\n",
    "    validation_fraction_split=0.1,\n",
    "    test_fraction_split=0.1,\n",
    "    model_display_name=\"adopted-prediction-model\",\n",
    "    disable_early_stopping=False,\n",
    ")"
   ]
  },
  {
   "cell_type": "code",
   "execution_count": 5,
   "id": "aa341fa5-0b2f-4486-b847-752197668e26",
   "metadata": {},
   "outputs": [],
   "source": [
    "MODEL_ID='8525391060426293248'\n",
    "model = aiplatform.Model('projects/{}/locations/us-central1/models/{}'.format(PROJECT_ID,MODEL_ID))"
   ]
  },
  {
   "cell_type": "code",
   "execution_count": 6,
   "id": "4815c52a-764f-480e-8f7f-96a1c35cbb5f",
   "metadata": {},
   "outputs": [
    {
     "name": "stdout",
     "output_type": "stream",
     "text": [
      "Creating Endpoint\n",
      "Create Endpoint backing LRO: projects/1090925531874/locations/us-central1/endpoints/3738412102205833216/operations/836265110744858624\n",
      "Endpoint created. Resource name: projects/1090925531874/locations/us-central1/endpoints/3738412102205833216\n",
      "To use this Endpoint in another session:\n",
      "endpoint = aiplatform.Endpoint('projects/1090925531874/locations/us-central1/endpoints/3738412102205833216')\n",
      "Deploying model to Endpoint : projects/1090925531874/locations/us-central1/endpoints/3738412102205833216\n",
      "Deploy Endpoint model backing LRO: projects/1090925531874/locations/us-central1/endpoints/3738412102205833216/operations/2822352546415247360\n",
      "Endpoint model deployed. Resource name: projects/1090925531874/locations/us-central1/endpoints/3738412102205833216\n"
     ]
    }
   ],
   "source": [
    "endpoint = model.deploy(\n",
    "    machine_type=\"n1-standard-4\",\n",
    ")"
   ]
  },
  {
   "cell_type": "code",
   "execution_count": 9,
   "id": "37beee4b-9b8f-42aa-ab62-1ab77354e433",
   "metadata": {},
   "outputs": [],
   "source": [
    "prediction = endpoint.predict(\n",
    "    [\n",
    "        {\n",
    "            \"Type\": \"Cat\",\n",
    "            \"Age\": \"3\",\n",
    "            \"Breed1\": \"Tabby\",\n",
    "            \"Gender\": \"Male\",\n",
    "            \"Color1\": \"Black\",\n",
    "            \"Color2\": \"White\",\n",
    "            \"MaturitySize\": \"Small\",\n",
    "            \"FurLength\": \"Short\",\n",
    "            \"Vaccinated\": \"No\",\n",
    "            \"Sterilized\": \"No\",\n",
    "            \"Health\": \"Healthy\",\n",
    "            \"Fee\": \"100\",\n",
    "            \"PhotoAmt\": \"2\",\n",
    "        }\n",
    "    ]\n",
    ")"
   ]
  },
  {
   "cell_type": "code",
   "execution_count": 10,
   "id": "73c97804-48dc-4a39-a694-6210d700d710",
   "metadata": {},
   "outputs": [
    {
     "data": {
      "text/plain": [
       "Prediction(predictions=[{'scores': [0.7372735142707825, 0.2627264857292175], 'classes': ['Yes', 'No']}], deployed_model_id='4126856366159560704', model_version_id='1', model_resource_name='projects/1090925531874/locations/us-central1/models/8525391060426293248', explanations=None)"
      ]
     },
     "execution_count": 10,
     "metadata": {},
     "output_type": "execute_result"
    }
   ],
   "source": [
    "prediction"
   ]
  },
  {
   "cell_type": "code",
   "execution_count": null,
   "id": "352105b7-09a7-4a87-8318-6facaad324eb",
   "metadata": {},
   "outputs": [],
   "source": []
  },
  {
   "cell_type": "code",
   "execution_count": null,
   "id": "c3038079-4ced-4913-bf59-ada2e75937ed",
   "metadata": {},
   "outputs": [],
   "source": []
  }
 ],
 "metadata": {
  "environment": {
   "kernel": "python3",
   "name": "common-cpu.m110",
   "type": "gcloud",
   "uri": "gcr.io/deeplearning-platform-release/base-cpu:m110"
  },
  "kernelspec": {
   "display_name": "Python 3",
   "language": "python",
   "name": "python3"
  },
  "language_info": {
   "codemirror_mode": {
    "name": "ipython",
    "version": 3
   },
   "file_extension": ".py",
   "mimetype": "text/x-python",
   "name": "python",
   "nbconvert_exporter": "python",
   "pygments_lexer": "ipython3",
   "version": "3.10.12"
  }
 },
 "nbformat": 4,
 "nbformat_minor": 5
}
