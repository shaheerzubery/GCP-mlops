{
 "cells": [
  {
   "cell_type": "code",
   "execution_count": 3,
   "id": "3ff8ab87-4d18-4ec5-aaf0-6f1eb53faef4",
   "metadata": {},
   "outputs": [],
   "source": [
    "from google.cloud import aiplatform\n",
    "from google.cloud.aiplatform_v1.types import XraiAttribution\n",
    "from google.cloud.aiplatform_v1.types.explanation import ExplanationParameters\n",
    "\n",
    "project_id = \"udemy-mlops\"\n",
    "region = \"us-central1\"\n",
    "staging_bucket=\"gs://sid-kubeflow-v1\"\n",
    "\n",
    "aiplatform.init(project=project_id, location=region, staging_bucket=staging_bucket)"
   ]
  },
  {
   "attachments": {},
   "cell_type": "markdown",
   "id": "f07e9002-3f8b-4cfd-899d-d5444e9040da",
   "metadata": {},
   "source": [
    "<h4>Custom Model Training"
   ]
  },
  {
   "cell_type": "code",
   "execution_count": null,
   "id": "42377775-cc95-4344-a95a-82518f6fddf7",
   "metadata": {},
   "outputs": [],
   "source": [
    "job = aiplatform.CustomTrainingJob(\n",
    "        display_name=\"coupoon-recommendation-training\",\n",
    "        script_path=\"model-training-code.py\",\n",
    "        container_uri = \"us-docker.pkg.dev/vertex-ai/training/xgboost-cpu.1-1:latest\",\n",
    "        requirements=[\"gcsfs\",\"category_encoders==2.6.1\",\"imbalanced-learn==0.11.0\", \"scikit-learn>=0.24.0\"]\n",
    "    )\n",
    "\n",
    "job.run(\n",
    "    replica_count=1,\n",
    "    machine_type=\"n1-standard-4\",\n",
    "    sync=True\n",
    ")\n",
    "job.wait()"
   ]
  },
  {
   "attachments": {},
   "cell_type": "markdown",
   "id": "7ab7dba8-1f5f-4e3b-80cf-cddc8163cbcb",
   "metadata": {},
   "source": [
    "<h4>Upload Trained Model to Model Registry "
   ]
  },
  {
   "cell_type": "code",
   "execution_count": null,
   "id": "dcc44012-3caa-4514-848f-9e8e3776c520",
   "metadata": {},
   "outputs": [],
   "source": [
    "display_name = \"coupon-recommendation-sdk\"\n",
    "\n",
    "artifact_uri = \"gs://sid-kubeflow-v1/coupon-recommendation/artifacts/\"\n",
    "\n",
    "serving_container_image_uri = \"us-docker.pkg.dev/vertex-ai/prediction/xgboost-cpu.1-6:latest\"\n",
    "\n",
    "exp_metadata = {\"inputs\": {\"input_features\": {}}, \"outputs\": {\"predicted_outcome\": {}}}\n",
    "\n",
    "model = aiplatform.Model.upload(\n",
    "        display_name=display_name,\n",
    "        artifact_uri=artifact_uri,\n",
    "        serving_container_image_uri=serving_container_image_uri,\n",
    "        explanation_metadata=exp_metadata,\n",
    "        explanation_parameters=ExplanationParameters(\n",
    "                sampled_shapley_attribution=XraiAttribution()\n",
    "            ),\n",
    "        sync=False\n",
    "    )\n",
    "\n",
    "model.wait()"
   ]
  },
  {
   "attachments": {},
   "cell_type": "markdown",
   "id": "595824d2-4795-4ee6-b328-904339033a7d",
   "metadata": {},
   "source": [
    "<h4>Deploy Model to Vertex Endpoint"
   ]
  },
  {
   "cell_type": "code",
   "execution_count": null,
   "id": "bd03fa26-2b8b-4400-a48b-75d6d63475ac",
   "metadata": {},
   "outputs": [],
   "source": [
    "deployed_model_display_name = \"coupon-model-endpoint\"\n",
    "traffic_split = {\"0\": 100}\n",
    "machine_type = \"n1-standard-4\"\n",
    "min_replica_count = 1\n",
    "max_replica_count = 1\n",
    "\n",
    "endpoint = model.deploy(\n",
    "        deployed_model_display_name=deployed_model_display_name,\n",
    "        traffic_split=traffic_split,\n",
    "        machine_type=machine_type,\n",
    "        min_replica_count=min_replica_count,\n",
    "        max_replica_count=max_replica_count\n",
    "    )"
   ]
  },
  {
   "attachments": {},
   "cell_type": "markdown",
   "id": "194d2312-6cb5-46a2-96b1-aa6330b5b59e",
   "metadata": {},
   "source": [
    "<h4> Run Online Predictions"
   ]
  },
  {
   "cell_type": "code",
   "execution_count": null,
   "id": "73cbcac6-b348-4ba0-8f7b-4846adfb735f",
   "metadata": {
    "tags": []
   },
   "outputs": [],
   "source": [
    "INSTANCE =[0,\n",
    "  0,\n",
    "  0,\n",
    "  1,\n",
    "  0,\n",
    "  1,\n",
    "  0,\n",
    "  0,\n",
    "  0,\n",
    "  0,\n",
    "  0,\n",
    "  1,\n",
    "  1,\n",
    "  0,\n",
    "  0,\n",
    "  0,\n",
    "  1,\n",
    "  0,\n",
    "  0,\n",
    "  0,\n",
    "  0,\n",
    "  0,\n",
    "  0,\n",
    "  0,\n",
    "  0,\n",
    "  0,\n",
    "  0,\n",
    "  1,\n",
    "  1,\n",
    "  1,\n",
    "  2,\n",
    "  3,\n",
    "  0,\n",
    "  0,\n",
    "  3,\n",
    "  2,\n",
    "  1,\n",
    "  0,\n",
    "  0]\n",
    "instances_list = [INSTANCE]\n",
    "prediction = endpoint.predict(instances_list)\n",
    "print(prediction)"
   ]
  },
  {
   "attachments": {},
   "cell_type": "markdown",
   "id": "60fcd0c2-d269-4868-9f0c-f1ba56b6747b",
   "metadata": {},
   "source": [
    "<h4> Define the input features used for model training"
   ]
  },
  {
   "cell_type": "code",
   "execution_count": 21,
   "id": "e07cc160-b027-4f44-ab31-b13f5eb98cfe",
   "metadata": {},
   "outputs": [],
   "source": [
    "features = ['col_0', 'col_1', 'col_2', 'col_3', 'col_4', 'col_5', 'col_6', 'col_7',\n",
    "       'col_8', 'col_9', 'col_10', 'col_11', 'col_12', 'col_13', 'col_14',\n",
    "       'col_15', 'col_16', 'col_17', 'col_18', 'col_19', 'col_20', 'col_21',\n",
    "       'col_22', 'col_23', 'col_24', 'col_25', 'col_26', 'time', 'expiration',\n",
    "       'age', 'education', 'income', 'Bar', 'CoffeeHouse', 'CarryAway',\n",
    "       'Restaurant20To50', 'toCoupon_GEQ15min', 'toCoupon_GEQ25min',\n",
    "       'direction_same']"
   ]
  },
  {
   "attachments": {},
   "cell_type": "markdown",
   "id": "7667bf7b",
   "metadata": {},
   "source": [
    "<h4> Run explainability"
   ]
  },
  {
   "cell_type": "code",
   "execution_count": null,
   "id": "13df4f79-0402-40de-8da2-64a5d90d49b3",
   "metadata": {},
   "outputs": [],
   "source": [
    "response = endpoint.explain(instances=instances_list)\n",
    "\n",
    "for explanation in response.explanations:\n",
    "    attributions = explanation.attributions\n",
    "    for attribution in attributions:\n",
    "            print(\"  attribution\")\n",
    "            print(\"   baseline_output_value:\", attribution.baseline_output_value)\n",
    "            print(\"   instance_output_value:\", attribution.instance_output_value)\n",
    "            print(\"   output_display_name:\", attribution.output_display_name)\n",
    "            print(\"   approximation_error:\", attribution.approximation_error)\n",
    "            print(\"   output_name:\", attribution.output_name)\n",
    "            output_index = attribution.output_index\n",
    "            for output_index in output_index:\n",
    "                # print(\"   output_index:\", output_index)\n",
    "                attrs = attribution.feature_attributions\n",
    "                rows = {\"feature_name\": [], \"attribution\": []}\n",
    "                for i, val in enumerate(features):\n",
    "                    rows[\"feature_name\"].append(val)\n",
    "                    rows[\"attribution\"].append(attrs[\"input_features\"][i])\n",
    "            \n",
    "            print(rows)\n",
    "            print(\"-------------------------------------\")"
   ]
  },
  {
   "attachments": {},
   "cell_type": "markdown",
   "id": "bdddc843",
   "metadata": {},
   "source": [
    "<h4> Run explainability for batch predictions"
   ]
  },
  {
   "cell_type": "code",
   "execution_count": null,
   "id": "a45e36ca-b0bd-40bc-964c-065d59586799",
   "metadata": {},
   "outputs": [],
   "source": [
    "# model = aiplatform.Model('projects/1090925531874/locations/us-central1/models/6594037313586593792')\n",
    "\n",
    "gcs_input_uri = 'gs://sid-kubeflow-v1/coupon-recommendation/test-batch.csv'\n",
    "BUCKET_URI = \"gs://sid-kubeflow-v1/coupon-recommendation/batch-prediction-output\"\n",
    "\n",
    "batch_predict_job = model.batch_predict(\n",
    "    job_display_name=\"coupon_batch_predict\",\n",
    "    gcs_source=gcs_input_uri,\n",
    "    gcs_destination_prefix=BUCKET_URI,\n",
    "    instances_format=\"csv\",\n",
    "    predictions_format=\"jsonl\",\n",
    "    machine_type=\"n1-standard-4\",\n",
    "    starting_replica_count=1,\n",
    "    max_replica_count=1,\n",
    "    generate_explanation=True,\n",
    "    sync=False\n",
    ")"
   ]
  },
  {
   "cell_type": "code",
   "execution_count": null,
   "id": "07c77522-690e-489d-aba1-785b1bca0db4",
   "metadata": {},
   "outputs": [],
   "source": []
  },
  {
   "cell_type": "code",
   "execution_count": null,
   "id": "51ed498b-6956-4e2f-b372-19bd7153a310",
   "metadata": {},
   "outputs": [],
   "source": []
  },
  {
   "cell_type": "code",
   "execution_count": null,
   "id": "3f1cdde8-f03d-49bc-af8f-840ff85d670b",
   "metadata": {},
   "outputs": [],
   "source": []
  }
 ],
 "metadata": {
  "environment": {
   "kernel": "python3",
   "name": "common-cpu.m109",
   "type": "gcloud",
   "uri": "gcr.io/deeplearning-platform-release/base-cpu:m109"
  },
  "kernelspec": {
   "display_name": "Python 3",
   "language": "python",
   "name": "python3"
  },
  "language_info": {
   "codemirror_mode": {
    "name": "ipython",
    "version": 3
   },
   "file_extension": ".py",
   "mimetype": "text/x-python",
   "name": "python",
   "nbconvert_exporter": "python",
   "pygments_lexer": "ipython3",
   "version": "3.10.11"
  }
 },
 "nbformat": 4,
 "nbformat_minor": 5
}
