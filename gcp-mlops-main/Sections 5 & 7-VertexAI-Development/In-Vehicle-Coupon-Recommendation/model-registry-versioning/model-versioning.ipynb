{
 "cells": [
  {
   "cell_type": "code",
   "execution_count": 2,
   "id": "dd8d2afb-d90e-492c-b740-05b63c2a8f3e",
   "metadata": {},
   "outputs": [],
   "source": [
    "from google.cloud import aiplatform\n",
    "\n",
    "project_id = \"udemy-mlops\"\n",
    "region = \"us-central1\"\n",
    "staging_bucket=\"gs://sid-kubeflow-v1\"\n",
    "\n",
    "aiplatform.init(project=project_id, location=region, staging_bucket=staging_bucket)"
   ]
  },
  {
   "cell_type": "markdown",
   "id": "08922832-f789-412c-a441-13b5ab86c348",
   "metadata": {},
   "source": [
    "<h4> Upload the stable version to model registry"
   ]
  },
  {
   "cell_type": "code",
   "execution_count": 3,
   "id": "10d5c05e-e920-42f4-8e03-546cdc7f49ff",
   "metadata": {},
   "outputs": [
    {
     "name": "stdout",
     "output_type": "stream",
     "text": [
      "Creating Model\n",
      "Create Model backing LRO: projects/1090925531874/locations/us-central1/models/2527568325047746560/operations/5434893878836592640\n",
      "Model created. Resource name: projects/1090925531874/locations/us-central1/models/2527568325047746560@1\n",
      "To use this Model in another session:\n",
      "model = aiplatform.Model('projects/1090925531874/locations/us-central1/models/2527568325047746560@1')\n"
     ]
    }
   ],
   "source": [
    "display_name = \"coupon-recommendation-model\"\n",
    "artifact_uri = \"gs://sid-kubeflow-v1/coupon-recommendation/artifacts/\"\n",
    "serving_container_image_uri = \"us-docker.pkg.dev/vertex-ai/prediction/xgboost-cpu.1-6:latest\"\n",
    "\n",
    "model = aiplatform.Model.upload(\n",
    "        display_name=display_name,\n",
    "        artifact_uri=artifact_uri,\n",
    "        serving_container_image_uri=serving_container_image_uri,\n",
    "        sync=False,\n",
    "        version_aliases=[\"stable-version\"],\n",
    "        is_default_version=True\n",
    "    )\n",
    "\n",
    "model.wait()"
   ]
  },
  {
   "cell_type": "code",
   "execution_count": 3,
   "id": "6a061508-a243-484a-a91c-3595407ef710",
   "metadata": {},
   "outputs": [],
   "source": [
    "# DISPLAY_NAME = \"coupon-recommendation-model\"\n",
    "# models = aiplatform.Model.list(filter=(\"display_name={}\").format(DISPLAY_NAME))\n",
    "# parent_model = models[0].resource_name"
   ]
  },
  {
   "cell_type": "markdown",
   "id": "f5b3bdcd-0c24-4987-946d-30daa9feba4b",
   "metadata": {},
   "source": [
    "<h4> Upload the tuned V1 version to the model registry with <b>parent_model</b> parameter"
   ]
  },
  {
   "cell_type": "code",
   "execution_count": 4,
   "id": "191cb6cc-f8f4-4fb7-b031-d186329026e5",
   "metadata": {},
   "outputs": [
    {
     "name": "stdout",
     "output_type": "stream",
     "text": [
      "Creating Model\n",
      "Create Model backing LRO: projects/1090925531874/locations/us-central1/models/2527568325047746560/operations/7937206421794324480\n",
      "Model created. Resource name: projects/1090925531874/locations/us-central1/models/2527568325047746560@2\n",
      "To use this Model in another session:\n",
      "model = aiplatform.Model('projects/1090925531874/locations/us-central1/models/2527568325047746560@2')\n"
     ]
    }
   ],
   "source": [
    "project_id = 1090925531874\n",
    "model_id = 2527568325047746560\n",
    "parent_model = 'projects/{}/locations/us-central1/models/{}'.format(project_id,model_id)\n",
    "\n",
    "new_model = aiplatform.Model.upload(\n",
    "        parent_model = parent_model,\n",
    "        artifact_uri=\"gs://sid-kubeflow-v1/coupon-recommendation/htp-tuned-artifacts/\",\n",
    "        serving_container_image_uri=serving_container_image_uri,\n",
    "        sync=False,\n",
    "        version_aliases=[\"v2\"],\n",
    "        labels={\"release\":\"dev\"},\n",
    "        is_default_version=False\n",
    "    )\n",
    "new_model.wait()"
   ]
  },
  {
   "cell_type": "markdown",
   "id": "9a7051b4-4275-49f8-93b0-d7871ff6b328",
   "metadata": {},
   "source": [
    "<h4> Deploy the stable model to an endpoint"
   ]
  },
  {
   "cell_type": "code",
   "execution_count": 6,
   "id": "8c6c93e8-31d1-4f08-b303-f563a614988e",
   "metadata": {},
   "outputs": [
    {
     "name": "stdout",
     "output_type": "stream",
     "text": [
      "Creating Endpoint\n",
      "Create Endpoint backing LRO: projects/1090925531874/locations/us-central1/endpoints/4074486627328589824/operations/6930651905077018624\n",
      "Endpoint created. Resource name: projects/1090925531874/locations/us-central1/endpoints/4074486627328589824\n",
      "To use this Endpoint in another session:\n",
      "endpoint = aiplatform.Endpoint('projects/1090925531874/locations/us-central1/endpoints/4074486627328589824')\n",
      "Deploying model to Endpoint : projects/1090925531874/locations/us-central1/endpoints/4074486627328589824\n",
      "Deploy Endpoint model backing LRO: projects/1090925531874/locations/us-central1/endpoints/4074486627328589824/operations/1166044382042783744\n",
      "Endpoint model deployed. Resource name: projects/1090925531874/locations/us-central1/endpoints/4074486627328589824\n"
     ]
    }
   ],
   "source": [
    "deployed_model_display_name = \"coupon-model-endpoint\"\n",
    "traffic_split = {\"0\": 100}\n",
    "machine_type = \"n1-standard-4\"\n",
    "min_replica_count = 1\n",
    "max_replica_count = 1\n",
    "\n",
    "endpoint = model.deploy(\n",
    "        deployed_model_display_name=deployed_model_display_name,\n",
    "        traffic_split=traffic_split,\n",
    "        machine_type=machine_type,\n",
    "        min_replica_count=min_replica_count,\n",
    "        max_replica_count=max_replica_count\n",
    "    )"
   ]
  },
  {
   "cell_type": "markdown",
   "id": "26290772-3b56-419c-8495-515bd61135bd",
   "metadata": {},
   "source": [
    "<h4>Run Batch Predictions against stable model version"
   ]
  },
  {
   "cell_type": "code",
   "execution_count": null,
   "id": "3fe69e6d-ea5a-4d42-b549-48588abdf8bb",
   "metadata": {},
   "outputs": [],
   "source": [
    "gcs_input_uri = 'gs://sid-kubeflow-v1/coupon-recommendation/test-batch.csv'\n",
    "BUCKET_URI = \"gs://sid-kubeflow-v1/coupon-recommendation/batch-prediction-output\"\n",
    "\n",
    "batch_predict_job = model.batch_predict(\n",
    "    job_display_name=\"coupon_batch_predict\",\n",
    "    gcs_source=gcs_input_uri,\n",
    "    gcs_destination_prefix=BUCKET_URI,\n",
    "    instances_format=\"csv\",\n",
    "    predictions_format=\"jsonl\",\n",
    "    machine_type=\"n1-standard-4\",\n",
    "    starting_replica_count=1,\n",
    "    max_replica_count=1,\n",
    "    sync=False\n",
    ")"
   ]
  },
  {
   "cell_type": "markdown",
   "id": "efbd401e-41c6-44fd-b63c-66926718b0d6",
   "metadata": {},
   "source": [
    "<h4>Run Batch Predictions against V2 model version"
   ]
  },
  {
   "cell_type": "code",
   "execution_count": null,
   "id": "a81b0c2a-b3ef-4c33-9f1c-c28f76c99767",
   "metadata": {},
   "outputs": [],
   "source": [
    "gcs_input_uri = 'gs://sid-kubeflow-v1/coupon-recommendation/test-batch.csv'\n",
    "BUCKET_URI = \"gs://sid-kubeflow-v1/coupon-recommendation/batch-prediction-output\"\n",
    "\n",
    "batch_predict_job = new_model.batch_predict(\n",
    "    job_display_name=\"coupon_batch_predict\",\n",
    "    gcs_source=gcs_input_uri,\n",
    "    gcs_destination_prefix=BUCKET_URI,\n",
    "    instances_format=\"csv\",\n",
    "    predictions_format=\"jsonl\",\n",
    "    machine_type=\"n1-standard-4\",\n",
    "    starting_replica_count=1,\n",
    "    max_replica_count=1,\n",
    "    sync=False\n",
    ")"
   ]
  }
 ],
 "metadata": {
  "environment": {
   "kernel": "python3",
   "name": "common-cpu.m109",
   "type": "gcloud",
   "uri": "gcr.io/deeplearning-platform-release/base-cpu:m109"
  },
  "kernelspec": {
   "display_name": "Python 3",
   "language": "python",
   "name": "python3"
  },
  "language_info": {
   "codemirror_mode": {
    "name": "ipython",
    "version": 3
   },
   "file_extension": ".py",
   "mimetype": "text/x-python",
   "name": "python",
   "nbconvert_exporter": "python",
   "pygments_lexer": "ipython3",
   "version": "3.10.11"
  }
 },
 "nbformat": 4,
 "nbformat_minor": 5
}
