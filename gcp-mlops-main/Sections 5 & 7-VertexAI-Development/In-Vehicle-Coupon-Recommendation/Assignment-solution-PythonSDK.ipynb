{
 "cells": [
  {
   "attachments": {},
   "cell_type": "markdown",
   "id": "b507e832-c56b-4bc1-8c16-7d6795a47c31",
   "metadata": {},
   "source": [
    "<p> <b>Step-1</b> : Upload the file <b>model-training-code.py</b> to the current working directory of the workbench\n",
    "    \n",
    "<p> <b>Step-2</b> : Run the custom training job using <b>aiplatform.CustomTrainingJob()</b> method and use <b>us-docker.pkg.dev/vertex-ai/training/xgboost-cpu.1-1:latest</b> for <b>container_uri</b> parameter as your prebuilt image , because this model uses XGBoost framework"
   ]
  },
  {
   "cell_type": "code",
   "execution_count": 8,
   "id": "96f4ac38-7173-4255-b227-0350ebc5cad4",
   "metadata": {},
   "outputs": [
    {
     "name": "stdout",
     "output_type": "stream",
     "text": [
      "Training script copied to:\n",
      "gs://sid-kubeflow-v1/aiplatform-2023-07-24-13:43:41.421-aiplatform_custom_trainer_script-0.1.tar.gz.\n",
      "Training Output directory:\n",
      "gs://sid-kubeflow-v1/aiplatform-custom-training-2023-07-24-13:43:41.569 \n",
      "View Training:\n",
      "https://console.cloud.google.com/ai/platform/locations/us-central1/training/3339486262623993856?project=1090925531874\n",
      "CustomTrainingJob projects/1090925531874/locations/us-central1/trainingPipelines/3339486262623993856 current state:\n",
      "PipelineState.PIPELINE_STATE_RUNNING\n",
      "View backing custom job:\n",
      "https://console.cloud.google.com/ai/platform/locations/us-central1/training/6792849975328899072?project=1090925531874\n",
      "CustomTrainingJob projects/1090925531874/locations/us-central1/trainingPipelines/3339486262623993856 current state:\n",
      "PipelineState.PIPELINE_STATE_RUNNING\n",
      "CustomTrainingJob projects/1090925531874/locations/us-central1/trainingPipelines/3339486262623993856 current state:\n",
      "PipelineState.PIPELINE_STATE_RUNNING\n",
      "CustomTrainingJob projects/1090925531874/locations/us-central1/trainingPipelines/3339486262623993856 current state:\n",
      "PipelineState.PIPELINE_STATE_RUNNING\n",
      "CustomTrainingJob run completed. Resource name: projects/1090925531874/locations/us-central1/trainingPipelines/3339486262623993856\n",
      "Training did not produce a Managed Model returning None. Training Pipeline projects/1090925531874/locations/us-central1/trainingPipelines/3339486262623993856 is not configured to upload a Model. Create the Training Pipeline with model_serving_container_image_uri and model_display_name passed in. Ensure that your training script saves to model to os.environ['AIP_MODEL_DIR'].\n"
     ]
    }
   ],
   "source": [
    "from google.cloud import aiplatform\n",
    "\n",
    "project_id = \"udemy-mlops\"\n",
    "region = \"us-central1\"\n",
    "staging_bucket=\"gs://sid-kubeflow-v1\"\n",
    "\n",
    "aiplatform.init(project=project_id, location=region, staging_bucket=staging_bucket)\n",
    "\n",
    "job = aiplatform.CustomTrainingJob(\n",
    "        display_name=\"coupoon-recommendation-training\",\n",
    "        script_path=\"model-training-code.py\",\n",
    "        container_uri = \"us-docker.pkg.dev/vertex-ai/training/xgboost-cpu.1-1:latest\",\n",
    "        requirements=[\"gcsfs\",\"category_encoders==2.6.1\",\"imbalanced-learn==0.11.0\", \"scikit-learn>=0.24.0\"]\n",
    "    )\n",
    "\n",
    "job.run(\n",
    "    replica_count=1,\n",
    "    machine_type=\"n1-standard-4\",\n",
    "    sync=True\n",
    ")\n",
    "job.wait()"
   ]
  },
  {
   "attachments": {},
   "cell_type": "markdown",
   "id": "8b07c39c-fa38-4623-9d08-57e6b4addb82",
   "metadata": {},
   "source": [
    "<p> <b>Step-3</b> : Upload the Model to model registry by using the <b>aiplatform.Model.upload()</b> method.\n",
    "    <h4><font color=\"red\">Hint : </font></h4>\n",
    "       Use <b>us-docker.pkg.dev/vertex-ai/prediction/xgboost-cpu.1-6:latest</b> as  <b>serving_container_image_uri</b> "
   ]
  },
  {
   "cell_type": "code",
   "execution_count": 9,
   "id": "9e55179d-57e0-462c-8ec8-5d13a9f7c7d8",
   "metadata": {},
   "outputs": [
    {
     "name": "stdout",
     "output_type": "stream",
     "text": [
      "Creating Model\n",
      "Create Model backing LRO: projects/1090925531874/locations/us-central1/models/8700033089335721984/operations/3287398136208687104\n",
      "Model created. Resource name: projects/1090925531874/locations/us-central1/models/8700033089335721984@1\n",
      "To use this Model in another session:\n",
      "model = aiplatform.Model('projects/1090925531874/locations/us-central1/models/8700033089335721984@1')\n"
     ]
    }
   ],
   "source": [
    "display_name = \"coupon-recommendation-sdk\"\n",
    "\n",
    "artifact_uri = \"gs://sid-kubeflow-v1/coupon-recommendation/artifacts/\"\n",
    "\n",
    "serving_container_image_uri = \"us-docker.pkg.dev/vertex-ai/prediction/xgboost-cpu.1-6:latest\"\n",
    "\n",
    "model = aiplatform.Model.upload(\n",
    "        display_name=display_name,\n",
    "        artifact_uri=artifact_uri,\n",
    "        serving_container_image_uri=serving_container_image_uri,\n",
    "        sync=False\n",
    ")"
   ]
  },
  {
   "attachments": {},
   "cell_type": "markdown",
   "id": "f9465eef-4877-4060-a65d-4dfbe480fa21",
   "metadata": {},
   "source": [
    "<p> <b>Step-4</b> : Deploy the Model to Vertex Endpoint by using the <b>model.deploy()</b> method."
   ]
  },
  {
   "cell_type": "code",
   "execution_count": 10,
   "id": "5db1c417-5e99-418b-81d9-c29d71a2dbe6",
   "metadata": {},
   "outputs": [
    {
     "name": "stdout",
     "output_type": "stream",
     "text": [
      "Creating Endpoint\n",
      "Create Endpoint backing LRO: projects/1090925531874/locations/us-central1/endpoints/4287000234745135104/operations/3132023949064404992\n",
      "Endpoint created. Resource name: projects/1090925531874/locations/us-central1/endpoints/4287000234745135104\n",
      "To use this Endpoint in another session:\n",
      "endpoint = aiplatform.Endpoint('projects/1090925531874/locations/us-central1/endpoints/4287000234745135104')\n",
      "Deploying model to Endpoint : projects/1090925531874/locations/us-central1/endpoints/4287000234745135104\n",
      "Deploy Endpoint model backing LRO: projects/1090925531874/locations/us-central1/endpoints/4287000234745135104/operations/7836455972317954048\n",
      "Endpoint model deployed. Resource name: projects/1090925531874/locations/us-central1/endpoints/4287000234745135104\n"
     ]
    }
   ],
   "source": [
    "deployed_model_display_name = \"coupon-model-endpoint\"\n",
    "traffic_split = {\"0\": 100}\n",
    "machine_type = \"n1-standard-4\"\n",
    "min_replica_count = 1\n",
    "max_replica_count = 1\n",
    "\n",
    "endpoint = model.deploy(\n",
    "        deployed_model_display_name=deployed_model_display_name,\n",
    "        traffic_split=traffic_split,\n",
    "        machine_type=machine_type,\n",
    "        min_replica_count=min_replica_count,\n",
    "        max_replica_count=max_replica_count\n",
    "    )"
   ]
  },
  {
   "attachments": {},
   "cell_type": "markdown",
   "id": "19de58d6-a922-4f13-8f77-fd700314f866",
   "metadata": {},
   "source": [
    "<p> <b>Step-5</b> : Run online predictions against the endpoint by using <b>endpoint.predict()</b> method.<br>\n",
    "<b>Note</b> : Even though this is a classification problem , the output value indicates the probability of the output.<br>\n",
    "Typically any value below or euqal to <b>0.5</b> is considered as <b>class 0</b> and greater than <b>0.5</b> is <b>class 1</b>"
   ]
  },
  {
   "cell_type": "code",
   "execution_count": 17,
   "id": "d8fddced-ca3e-4180-9485-9a3ecb5eea90",
   "metadata": {},
   "outputs": [
    {
     "name": "stdout",
     "output_type": "stream",
     "text": [
      "Prediction(predictions=[0.1320988982915878], deployed_model_id='7263305643367333888', model_version_id='1', model_resource_name='projects/1090925531874/locations/us-central1/models/8700033089335721984', explanations=None)\n"
     ]
    }
   ],
   "source": [
    "INSTANCE =[0,\n",
    "  0,\n",
    "  0,\n",
    "  1,\n",
    "  0,\n",
    "  1,\n",
    "  0,\n",
    "  0,\n",
    "  0,\n",
    "  0,\n",
    "  0,\n",
    "  1,\n",
    "  1,\n",
    "  0,\n",
    "  0,\n",
    "  0,\n",
    "  1,\n",
    "  0,\n",
    "  0,\n",
    "  0,\n",
    "  0,\n",
    "  0,\n",
    "  0,\n",
    "  0,\n",
    "  0,\n",
    "  0,\n",
    "  0,\n",
    "  1,\n",
    "  1,\n",
    "  1,\n",
    "  2,\n",
    "  3,\n",
    "  0,\n",
    "  0,\n",
    "  3,\n",
    "  2,\n",
    "  1,\n",
    "  0,\n",
    "  0]\n",
    "instances_list = [INSTANCE]\n",
    "prediction = endpoint.predict(instances_list)\n",
    "print(prediction)"
   ]
  },
  {
   "attachments": {},
   "cell_type": "markdown",
   "id": "86b334c5-4338-455e-8964-f7946188eb86",
   "metadata": {},
   "source": [
    "<p> <b>Step-6</b> : Run batch predictions against the uploaded model using the <b>model.batch_predict() </b> <br> method.\n",
    "    The input csv file <b>test-batch.csv</b> can be found in the same directory "
   ]
  },
  {
   "cell_type": "code",
   "execution_count": 22,
   "id": "9b8588d7-1e8f-431c-9696-1b9a166a15cd",
   "metadata": {},
   "outputs": [
    {
     "name": "stdout",
     "output_type": "stream",
     "text": [
      "Creating BatchPredictionJob\n",
      "BatchPredictionJob created. Resource name: projects/1090925531874/locations/us-central1/batchPredictionJobs/5473629536044187648\n",
      "To use this BatchPredictionJob in another session:\n",
      "bpj = aiplatform.BatchPredictionJob('projects/1090925531874/locations/us-central1/batchPredictionJobs/5473629536044187648')\n",
      "View Batch Prediction Job:\n",
      "https://console.cloud.google.com/ai/platform/locations/us-central1/batch-predictions/5473629536044187648?project=1090925531874\n",
      "BatchPredictionJob projects/1090925531874/locations/us-central1/batchPredictionJobs/5473629536044187648 current state:\n",
      "JobState.JOB_STATE_RUNNING\n",
      "BatchPredictionJob projects/1090925531874/locations/us-central1/batchPredictionJobs/5473629536044187648 current state:\n",
      "JobState.JOB_STATE_RUNNING\n",
      "BatchPredictionJob projects/1090925531874/locations/us-central1/batchPredictionJobs/5473629536044187648 current state:\n",
      "JobState.JOB_STATE_RUNNING\n"
     ]
    }
   ],
   "source": [
    "# model = aiplatform.Model('projects/1090925531874/locations/us-central1/models/8700033089335721984@1')\n",
    "\n",
    "gcs_input_uri = 'gs://sid-kubeflow-v1/coupon-recommendation/test-batch.csv'\n",
    "BUCKET_URI = \"gs://sid-kubeflow-v1/coupon-recommendation/batch-prediction-output\"\n",
    "\n",
    "batch_predict_job = model.batch_predict(\n",
    "    job_display_name=\"coupon_batch_predict\",\n",
    "    gcs_source=gcs_input_uri,\n",
    "    gcs_destination_prefix=BUCKET_URI,\n",
    "    instances_format=\"csv\",\n",
    "    predictions_format=\"jsonl\",\n",
    "    machine_type=\"n1-standard-4\",\n",
    "    starting_replica_count=1,\n",
    "    max_replica_count=1,\n",
    "    sync=False\n",
    ")"
   ]
  }
 ],
 "metadata": {
  "environment": {
   "kernel": "python3",
   "name": "common-cpu.m109",
   "type": "gcloud",
   "uri": "gcr.io/deeplearning-platform-release/base-cpu:m109"
  },
  "kernelspec": {
   "display_name": "Python 3",
   "language": "python",
   "name": "python3"
  },
  "language_info": {
   "codemirror_mode": {
    "name": "ipython",
    "version": 3
   },
   "file_extension": ".py",
   "mimetype": "text/x-python",
   "name": "python",
   "nbconvert_exporter": "python",
   "pygments_lexer": "ipython3",
   "version": "3.8.7"
  }
 },
 "nbformat": 4,
 "nbformat_minor": 5
}
