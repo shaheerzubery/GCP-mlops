{
 "cells": [
  {
   "cell_type": "code",
   "execution_count": 3,
   "id": "3ff8ab87-4d18-4ec5-aaf0-6f1eb53faef4",
   "metadata": {},
   "outputs": [],
   "source": [
    "from google.cloud import aiplatform\n",
    "from google.cloud.aiplatform_v1.types import SampledShapleyAttribution\n",
    "from google.cloud.aiplatform_v1.types.explanation import ExplanationParameters\n",
    "\n",
    "project_id = \"udemy-mlops\"\n",
    "region = \"us-central1\"\n",
    "bucket = \"gs://sid-kubeflow-v1\"\n",
    "\n",
    "aiplatform.init(project=project_id, location=region, staging_bucket=bucket)"
   ]
  },
  {
   "attachments": {},
   "cell_type": "markdown",
   "id": "f07e9002-3f8b-4cfd-899d-d5444e9040da",
   "metadata": {},
   "source": [
    "<h4>Custom Model Training"
   ]
  },
  {
   "cell_type": "code",
   "execution_count": 4,
   "id": "42377775-cc95-4344-a95a-82518f6fddf7",
   "metadata": {},
   "outputs": [
    {
     "name": "stdout",
     "output_type": "stream",
     "text": [
      "Training script copied to:\n",
      "gs://sid-kubeflow-v1/aiplatform-2023-07-24-06:37:20.777-aiplatform_custom_trainer_script-0.1.tar.gz.\n",
      "Training Output directory:\n",
      "gs://sid-kubeflow-v1/aiplatform-custom-training-2023-07-24-06:37:21.141 \n",
      "View Training:\n",
      "https://console.cloud.google.com/ai/platform/locations/us-central1/training/3233475749520343040?project=1090925531874\n",
      "CustomTrainingJob projects/1090925531874/locations/us-central1/trainingPipelines/3233475749520343040 current state:\n",
      "PipelineState.PIPELINE_STATE_RUNNING\n",
      "View backing custom job:\n",
      "https://console.cloud.google.com/ai/platform/locations/us-central1/training/8562773424978526208?project=1090925531874\n",
      "CustomTrainingJob projects/1090925531874/locations/us-central1/trainingPipelines/3233475749520343040 current state:\n",
      "PipelineState.PIPELINE_STATE_RUNNING\n",
      "CustomTrainingJob projects/1090925531874/locations/us-central1/trainingPipelines/3233475749520343040 current state:\n",
      "PipelineState.PIPELINE_STATE_RUNNING\n",
      "CustomTrainingJob projects/1090925531874/locations/us-central1/trainingPipelines/3233475749520343040 current state:\n",
      "PipelineState.PIPELINE_STATE_RUNNING\n",
      "CustomTrainingJob run completed. Resource name: projects/1090925531874/locations/us-central1/trainingPipelines/3233475749520343040\n",
      "Training did not produce a Managed Model returning None. Training Pipeline projects/1090925531874/locations/us-central1/trainingPipelines/3233475749520343040 is not configured to upload a Model. Create the Training Pipeline with model_serving_container_image_uri and model_display_name passed in. Ensure that your training script saves to model to os.environ['AIP_MODEL_DIR'].\n"
     ]
    }
   ],
   "source": [
    "\n",
    "job = aiplatform.CustomTrainingJob(\n",
    "    display_name=\"bikeshare-training-job\",\n",
    "    script_path=\"model-training-code.py\",\n",
    "    container_uri=\"us-docker.pkg.dev/vertex-ai/training/scikit-learn-cpu.0-23:latest\",\n",
    "    requirements=[\"gcsfs\"]\n",
    ")\n",
    "\n",
    "job.run(\n",
    "    replica_count=1,\n",
    "    machine_type=\"n1-standard-4\",\n",
    "    sync=True\n",
    ")\n",
    "\n",
    "job.wait()"
   ]
  },
  {
   "attachments": {},
   "cell_type": "markdown",
   "id": "7ab7dba8-1f5f-4e3b-80cf-cddc8163cbcb",
   "metadata": {},
   "source": [
    "<h4>Upload Trained Model to Model Registry "
   ]
  },
  {
   "cell_type": "code",
   "execution_count": 5,
   "id": "dcc44012-3caa-4514-848f-9e8e3776c520",
   "metadata": {},
   "outputs": [
    {
     "name": "stdout",
     "output_type": "stream",
     "text": [
      "Creating Model\n",
      "Create Model backing LRO: projects/1090925531874/locations/us-central1/models/6594037313586593792/operations/6210128741255872512\n",
      "Model created. Resource name: projects/1090925531874/locations/us-central1/models/6594037313586593792@1\n",
      "To use this Model in another session:\n",
      "model = aiplatform.Model('projects/1090925531874/locations/us-central1/models/6594037313586593792@1')\n"
     ]
    }
   ],
   "source": [
    "display_name = \"bikeshare-model-sdk\"\n",
    "artifact_uri = \"gs://sid-kubeflow-v1/bikeshare-model/artifact/\"\n",
    "serving_container_image_uri = \"us-docker.pkg.dev/vertex-ai/prediction/sklearn-cpu.1-0:latest\"\n",
    "\n",
    "exp_metadata = {\"inputs\": {\"input_features\": {}}, \"outputs\": {\"predicted_outcome\": {}}}\n",
    "\n",
    "model = aiplatform.Model.upload(\n",
    "        display_name=display_name,\n",
    "        artifact_uri=artifact_uri,\n",
    "        serving_container_image_uri=serving_container_image_uri,\n",
    "        explanation_metadata=exp_metadata,\n",
    "        explanation_parameters=ExplanationParameters(\n",
    "                sampled_shapley_attribution=SampledShapleyAttribution(path_count=25)\n",
    "            ),\n",
    "        sync=False\n",
    "    )\n",
    "\n",
    "model.wait()"
   ]
  },
  {
   "attachments": {},
   "cell_type": "markdown",
   "id": "595824d2-4795-4ee6-b328-904339033a7d",
   "metadata": {},
   "source": [
    "<h4>Deploy Model to Vertex Endpoint"
   ]
  },
  {
   "cell_type": "code",
   "execution_count": 6,
   "id": "bd03fa26-2b8b-4400-a48b-75d6d63475ac",
   "metadata": {},
   "outputs": [
    {
     "name": "stdout",
     "output_type": "stream",
     "text": [
      "Creating Endpoint\n",
      "Create Endpoint backing LRO: projects/1090925531874/locations/us-central1/endpoints/2961816044391366656/operations/1024233770338746368\n",
      "Endpoint created. Resource name: projects/1090925531874/locations/us-central1/endpoints/2961816044391366656\n",
      "To use this Endpoint in another session:\n",
      "endpoint = aiplatform.Endpoint('projects/1090925531874/locations/us-central1/endpoints/2961816044391366656')\n",
      "Deploying model to Endpoint : projects/1090925531874/locations/us-central1/endpoints/2961816044391366656\n",
      "Deploy Endpoint model backing LRO: projects/1090925531874/locations/us-central1/endpoints/2961816044391366656/operations/4480746484345602048\n",
      "Endpoint model deployed. Resource name: projects/1090925531874/locations/us-central1/endpoints/2961816044391366656\n"
     ]
    }
   ],
   "source": [
    "deployed_model_display_name = \"bikeshare-endpoint-exp-v1\"\n",
    "traffic_split = {\"0\": 100}\n",
    "machine_type = \"n1-standard-4\"\n",
    "min_replica_count = 1\n",
    "max_replica_count = 1\n",
    "\n",
    "endpoint = model.deploy(\n",
    "        deployed_model_display_name=deployed_model_display_name,\n",
    "        traffic_split=traffic_split,\n",
    "        machine_type=machine_type,\n",
    "        min_replica_count=min_replica_count,\n",
    "        max_replica_count=max_replica_count\n",
    "    )"
   ]
  },
  {
   "cell_type": "code",
   "execution_count": null,
   "id": "133de5a5",
   "metadata": {},
   "outputs": [],
   "source": [
    "endpoint = aiplatform.Endpoint('projects/1090925531874/locations/us-central1/endpoints/2961816044391366656')"
   ]
  },
  {
   "attachments": {},
   "cell_type": "markdown",
   "id": "194d2312-6cb5-46a2-96b1-aa6330b5b59e",
   "metadata": {},
   "source": [
    "<h4> Run Predictions"
   ]
  },
  {
   "cell_type": "code",
   "execution_count": 20,
   "id": "73cbcac6-b348-4ba0-8f7b-4846adfb735f",
   "metadata": {
    "tags": []
   },
   "outputs": [
    {
     "name": "stdout",
     "output_type": "stream",
     "text": [
      "Prediction(predictions=[4.113863795903288, 5.874693031755736], deployed_model_id='4375161276083470336', model_version_id='1', model_resource_name='projects/1090925531874/locations/us-central1/models/6594037313586593792', explanations=None)\n"
     ]
    }
   ],
   "source": [
    "instances_list = [\n",
    "    [0.24, 0.81, 0, 0, 0, 0, 0, 0, 0, 0, 0, 0, 0, 0, 0, 0, 0, 0, 0, 0, 0, 0, 0, 0, 0, 0, 0, 0, 0, 0, 0, 0, 0, 0, 0, 0, 0, 0, 0, 0, 0, 0, 0, 0, 0, 0, 1, 0, 0, 0],\n",
    "    [0.8,0.27, 0.0, 1.0, 0.0, 0.0, 0.0, 0.0, 0.0, 1.0, 0.0, 0.0, 0.0, 0.0, 0.0, 0.0, 0.0, 0.0, 0.0,0.0,0.0,0.0, 0.0, 0.0, 0.0,0.0,0.0,0.0,0.0,0.0,0.0,0.0,0.0,0.0,1.0,0.0,0.0,0.0,0.0,0.0,0.0,0.0,0.0,0.0,0.0,1.0,0.0,0.0,0.0,0.0]\n",
    "    ]\n",
    "\n",
    "prediction = endpoint.predict(instances_list)\n",
    "print(prediction)"
   ]
  },
  {
   "attachments": {},
   "cell_type": "markdown",
   "id": "60fcd0c2-d269-4868-9f0c-f1ba56b6747b",
   "metadata": {},
   "source": [
    "<h4> Define the input features used for model training"
   ]
  },
  {
   "cell_type": "code",
   "execution_count": 21,
   "id": "e07cc160-b027-4f44-ab31-b13f5eb98cfe",
   "metadata": {},
   "outputs": [],
   "source": [
    "features = ['time',\n",
    " 'coupon',\n",
    " 'expiration',\n",
    " 'age',\n",
    " 'education',\n",
    " 'occupation',\n",
    " 'income',\n",
    " 'Bar',\n",
    " 'CoffeeHouse',\n",
    " 'CarryAway',\n",
    " 'Restaurant20To50',\n",
    " 'toCoupon_GEQ15min',\n",
    " 'toCoupon_GEQ25min',\n",
    " 'direction_same',\n",
    " 'passanger_destination',\n",
    " 'marital_hasChildren',\n",
    " 'temperature_weather']"
   ]
  },
  {
   "cell_type": "code",
   "execution_count": 37,
   "id": "13df4f79-0402-40de-8da2-64a5d90d49b3",
   "metadata": {},
   "outputs": [
    {
     "name": "stdout",
     "output_type": "stream",
     "text": [
      "  attribution\n",
      "   baseline_output_value: 4.105136956929912\n",
      "   instance_output_value: 4.1138637959032875\n",
      "   output_display_name: \n",
      "   approximation_error: 0.0008908002980896847\n",
      "   output_name: predicted_outcome\n",
      "{'feature_name': ['time', 'coupon', 'expiration', 'age', 'education', 'occupation', 'income', 'Bar', 'CoffeeHouse', 'CarryAway', 'Restaurant20To50', 'toCoupon_GEQ15min', 'toCoupon_GEQ25min', 'direction_same', 'passanger_destination', 'marital_hasChildren', 'temperature_weather'], 'attribution': [0.3221664264934795, -0.2107985446977723, 0.0, 0.0, 0.0, 0.0, 0.0, 0.0, 0.0, 0.0, 0.0, 0.0, 0.0, 0.0, 0.0, 0.0, 0.0]}\n",
      "-------------------------------------\n",
      "  attribution\n",
      "   baseline_output_value: 4.105136956929912\n",
      "   instance_output_value: 5.874693031755736\n",
      "   output_display_name: \n",
      "   approximation_error: 0.00016727627601971653\n",
      "   output_name: predicted_outcome\n",
      "{'feature_name': ['time', 'coupon', 'expiration', 'age', 'education', 'occupation', 'income', 'Bar', 'CoffeeHouse', 'CarryAway', 'Restaurant20To50', 'toCoupon_GEQ15min', 'toCoupon_GEQ25min', 'direction_same', 'passanger_destination', 'marital_hasChildren', 'temperature_weather'], 'attribution': [1.633133759899068, 0.075300544779683, 0.0, 0.0, 0.0, 0.0, 0.0, 0.0, 0.0, 0.0, 0.0, 0.0, 0.0, 0.0, 0.0, 0.0, 0.0]}\n",
      "-------------------------------------\n"
     ]
    }
   ],
   "source": [
    "response = endpoint.explain(instances=instances_list)\n",
    "\n",
    "for explanation in response.explanations:\n",
    "    attributions = explanation.attributions\n",
    "    for attribution in attributions:\n",
    "            print(\"  attribution\")\n",
    "            print(\"   baseline_output_value:\", attribution.baseline_output_value)\n",
    "            print(\"   instance_output_value:\", attribution.instance_output_value)\n",
    "            print(\"   output_display_name:\", attribution.output_display_name)\n",
    "            print(\"   approximation_error:\", attribution.approximation_error)\n",
    "            print(\"   output_name:\", attribution.output_name)\n",
    "            output_index = attribution.output_index\n",
    "            for output_index in output_index:\n",
    "                # print(\"   output_index:\", output_index)\n",
    "                attrs = attribution.feature_attributions\n",
    "                rows = {\"feature_name\": [], \"attribution\": []}\n",
    "                for i, val in enumerate(features):\n",
    "                    rows[\"feature_name\"].append(val)\n",
    "                    rows[\"attribution\"].append(attrs[\"input_features\"][i])\n",
    "            \n",
    "            print(rows)\n",
    "            print(\"-------------------------------------\")"
   ]
  },
  {
   "cell_type": "code",
   "execution_count": null,
   "id": "a45e36ca-b0bd-40bc-964c-065d59586799",
   "metadata": {},
   "outputs": [],
   "source": [
    "# model = aiplatform.Model('projects/1090925531874/locations/us-central1/models/6594037313586593792')\n",
    "\n",
    "gcs_input_uri = 'gs://sid-vertex-mlops/bike-share/batch.csv'\n",
    "BUCKET_URI = \"gs://sid-kubeflow-v1/bikeshare-model/bikeshare-batch-prediction-output\"\n",
    "\n",
    "batch_predict_job = model.batch_predict(\n",
    "    job_display_name=\"bikeshare_batch_predict\",\n",
    "    gcs_source=gcs_input_uri,\n",
    "    gcs_destination_prefix=BUCKET_URI,\n",
    "    instances_format=\"csv\",\n",
    "    predictions_format=\"jsonl\",\n",
    "    machine_type=\"n1-standard-4\",\n",
    "    starting_replica_count=1,\n",
    "    max_replica_count=1,\n",
    "    generate_explanation=True,\n",
    "    sync=False\n",
    ")"
   ]
  },
  {
   "cell_type": "code",
   "execution_count": null,
   "id": "07c77522-690e-489d-aba1-785b1bca0db4",
   "metadata": {},
   "outputs": [],
   "source": []
  },
  {
   "cell_type": "code",
   "execution_count": null,
   "id": "51ed498b-6956-4e2f-b372-19bd7153a310",
   "metadata": {},
   "outputs": [],
   "source": []
  },
  {
   "cell_type": "code",
   "execution_count": null,
   "id": "3f1cdde8-f03d-49bc-af8f-840ff85d670b",
   "metadata": {},
   "outputs": [],
   "source": []
  }
 ],
 "metadata": {
  "environment": {
   "kernel": "python3",
   "name": "common-cpu.m109",
   "type": "gcloud",
   "uri": "gcr.io/deeplearning-platform-release/base-cpu:m109"
  },
  "kernelspec": {
   "display_name": "Python 3",
   "language": "python",
   "name": "python3"
  },
  "language_info": {
   "codemirror_mode": {
    "name": "ipython",
    "version": 3
   },
   "file_extension": ".py",
   "mimetype": "text/x-python",
   "name": "python",
   "nbconvert_exporter": "python",
   "pygments_lexer": "ipython3",
   "version": "3.10.11"
  }
 },
 "nbformat": 4,
 "nbformat_minor": 5
}
