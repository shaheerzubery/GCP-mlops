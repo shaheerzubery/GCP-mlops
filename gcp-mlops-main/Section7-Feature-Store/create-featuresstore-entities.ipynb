{
 "cells": [
  {
   "cell_type": "code",
   "execution_count": null,
   "id": "edfed1ae-7d5c-4250-9bed-2342a2669d9e",
   "metadata": {},
   "outputs": [],
   "source": [
    "from google.cloud import aiplatform\n",
    "aiplatform.init(project='udemy-mlops',location='us-central1')"
   ]
  },
  {
   "cell_type": "code",
   "execution_count": null,
   "id": "a4eb10fe-bf6c-46ba-8c69-e9406278558d",
   "metadata": {},
   "outputs": [],
   "source": [
    "credit_scoring_feature_store = aiplatform.Featurestore.create(\n",
    "    featurestore_id=f\"fs_credit_scoring\",online_store_fixed_node_count=1\n",
    ")"
   ]
  },
  {
   "cell_type": "code",
   "execution_count": null,
   "id": "2b185a1c-af39-4a92-9727-0d2a35342274",
   "metadata": {},
   "outputs": [],
   "source": [
    "credit_request_entity_type = credit_scoring_feature_store.create_entity_type(\n",
    "    entity_type_id=\"et_credit_request\"\n",
    ")\n",
    "customer_financial_profile_entity_type = credit_scoring_feature_store.create_entity_type(\n",
    "    entity_type_id=\"et_customer_financial_profile\"\n",
    ")\n",
    "credit_context_entity_type = credit_scoring_feature_store.create_entity_type(\n",
    "    entity_type_id=\"et_customer_credit_context\"\n",
    ")\n",
    "customer_demographics_entity_type = credit_scoring_feature_store.create_entity_type(\n",
    "    entity_type_id=\"et_customer_demographics\"\n",
    ")"
   ]
  },
  {
   "cell_type": "code",
   "execution_count": null,
   "id": "8d827f2b-5e38-4593-8786-9231fad2e446",
   "metadata": {},
   "outputs": [],
   "source": [
    "# credit_request_entity_type.delete(force=True)"
   ]
  },
  {
   "cell_type": "code",
   "execution_count": null,
   "id": "2c4a1f74-22e4-4b2e-988d-846bee05efa1",
   "metadata": {},
   "outputs": [],
   "source": [
    "credit_request_feature_configs = {\n",
    "    \"credit_request_id\": {\n",
    "        \"value_type\": \"STRING\"\n",
    "    },\n",
    "    \"credit_amount\": {\n",
    "        \"value_type\": \"DOUBLE\"\n",
    "    },\n",
    "    \"credit_duration\": {\n",
    "        \"value_type\": \"DOUBLE\"\n",
    "    },\n",
    "    \"installment_commitment\": {\n",
    "        \"value_type\": \"DOUBLE\"\n",
    "    },\n",
    "    \"credit_score\": {\n",
    "        \"value_type\": \"DOUBLE\"\n",
    "    }\n",
    "}\n",
    "\n",
    "credit_request_features = credit_request_entity_type.batch_create_features(\n",
    "    feature_configs=credit_request_feature_configs\n",
    ")"
   ]
  },
  {
   "cell_type": "code",
   "execution_count": null,
   "id": "e9242f93-72a2-4777-ba1a-97bd65a8dd57",
   "metadata": {},
   "outputs": [],
   "source": [
    "customer_financial_profile_configs = {\n",
    "    \"credit_request_id\": {\n",
    "        \"value_type\": \"STRING\"\n",
    "    },\n",
    "    \"checking_balance\": {\n",
    "        \"value_type\": \"DOUBLE\"\n",
    "    },\n",
    "    \"savings_balance\": {\n",
    "        \"value_type\": \"DOUBLE\"\n",
    "    },\n",
    "    \"existing_credits\": {\n",
    "        \"value_type\": \"DOUBLE\"\n",
    "    },\n",
    "    \"job_history\": {\n",
    "        \"value_type\": \"DOUBLE\"\n",
    "    }\n",
    "}\n",
    "\n",
    "customer_financial_profile_features = customer_financial_profile_entity_type.batch_create_features(\n",
    "    feature_configs=customer_financial_profile_configs\n",
    ")"
   ]
  },
  {
   "cell_type": "code",
   "execution_count": null,
   "id": "acdd90a1-6814-4375-ba57-8c7882e6df44",
   "metadata": {},
   "outputs": [],
   "source": [
    "credit_context_configs = {\n",
    "    \"credit_request_id\": {\n",
    "        \"value_type\": \"STRING\"\n",
    "    },\n",
    "    \"purpose_code\": {\n",
    "        \"value_type\": \"DOUBLE\"\n",
    "    },\n",
    "    \"other_parties_code\": {\n",
    "        \"value_type\": \"DOUBLE\"\n",
    "    },\n",
    "    \"qualification_code\": {\n",
    "        \"value_type\": \"DOUBLE\"\n",
    "    },\n",
    "    \"credit_standing_code\": {\n",
    "        \"value_type\": \"DOUBLE\"\n",
    "    },\n",
    "    \"assets_code\": {\n",
    "        \"value_type\": \"DOUBLE\"\n",
    "    },\n",
    "    \"housing_code\": {\n",
    "        \"value_type\": \"DOUBLE\"\n",
    "    },\n",
    "    \"marital_status_code\": {\n",
    "        \"value_type\": \"DOUBLE\"\n",
    "    },\n",
    "    \"other_payment_plans_code\": {\n",
    "        \"value_type\": \"DOUBLE\"\n",
    "    }\n",
    "}\n",
    "\n",
    "credit_context_features = credit_context_entity_type.batch_create_features(\n",
    "    feature_configs=credit_context_configs\n",
    ")"
   ]
  },
  {
   "cell_type": "code",
   "execution_count": null,
   "id": "690fd3dd-35c1-4704-bbc7-fc20e7c632fe",
   "metadata": {},
   "outputs": [],
   "source": [
    "customer_demographics_configs = {\n",
    "    \"credit_request_id\": {\n",
    "        \"value_type\": \"STRING\"\n",
    "    },\n",
    "    \"age\": {\n",
    "        \"value_type\": \"DOUBLE\"\n",
    "    },\n",
    "    \"num_dependents\": {\n",
    "        \"value_type\": \"DOUBLE\"\n",
    "    },\n",
    "    \"residence_since\": {\n",
    "        \"value_type\": \"DOUBLE\"\n",
    "    },\n",
    "    \"sex_code\": {\n",
    "        \"value_type\": \"DOUBLE\"\n",
    "    }\n",
    "}\n",
    "\n",
    "customer_demographics_configs = customer_demographics_entity_type.batch_create_features(\n",
    "    feature_configs=customer_demographics_configs\n",
    ")"
   ]
  },
  {
   "cell_type": "code",
   "execution_count": null,
   "id": "db8c4926-075f-47b2-b811-df5daf1dfc42",
   "metadata": {},
   "outputs": [],
   "source": []
  },
  {
   "cell_type": "code",
   "execution_count": null,
   "id": "ead09123-2f22-48b3-99a8-5b31bb4cce56",
   "metadata": {},
   "outputs": [],
   "source": []
  },
  {
   "cell_type": "code",
   "execution_count": null,
   "id": "c63d289c-8f64-44fb-8e1a-42808df1c9a4",
   "metadata": {},
   "outputs": [],
   "source": []
  }
 ],
 "metadata": {
  "environment": {
   "kernel": "python3",
   "name": "common-cpu.m109",
   "type": "gcloud",
   "uri": "gcr.io/deeplearning-platform-release/base-cpu:m109"
  },
  "kernelspec": {
   "display_name": "Python 3",
   "language": "python",
   "name": "python3"
  },
  "language_info": {
   "codemirror_mode": {
    "name": "ipython",
    "version": 3
   },
   "file_extension": ".py",
   "mimetype": "text/x-python",
   "name": "python",
   "nbconvert_exporter": "python",
   "pygments_lexer": "ipython3",
   "version": "3.10.11"
  }
 },
 "nbformat": 4,
 "nbformat_minor": 5
}
