{
 "cells": [
  {
   "cell_type": "code",
   "execution_count": null,
   "id": "80d81a20-5163-4821-8872-8f6d4e6d4ae5",
   "metadata": {},
   "outputs": [],
   "source": [
    "batch_read_customer_demographics = df_customer_demographics.loc[:, ['credit_request_id', 'update_time']]\n",
    "batch_read_customer_demographics = batch_read_customer_demographics.rename(columns={'credit_request_id': 'credit_request', 'update_time': 'timestamp'})\n",
    "\n",
    "\n",
    "temp_df = credit_scoring_feature_store.batch_serve_to_df(\n",
    "    serving_feature_ids={\n",
    "        \"fs_credit_scoring\":[\"credit_amount\", \"credit_duration\", \"installment_commitment\",\"credit_score\"]\n",
    "    },\n",
    "    read_instances_df=batch_read_customer_demographics\n",
    ")\n",
    "temp_df.head()"
   ]
  }
 ],
 "metadata": {
  "environment": {
   "kernel": "python3",
   "name": "common-cpu.m109",
   "type": "gcloud",
   "uri": "gcr.io/deeplearning-platform-release/base-cpu:m109"
  },
  "kernelspec": {
   "display_name": "Python 3",
   "language": "python",
   "name": "python3"
  },
  "language_info": {
   "codemirror_mode": {
    "name": "ipython",
    "version": 3
   },
   "file_extension": ".py",
   "mimetype": "text/x-python",
   "name": "python",
   "nbconvert_exporter": "python",
   "pygments_lexer": "ipython3",
   "version": "3.10.11"
  }
 },
 "nbformat": 4,
 "nbformat_minor": 5
}
