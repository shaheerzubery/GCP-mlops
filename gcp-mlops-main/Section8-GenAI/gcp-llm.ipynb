{
 "cells": [
  {
   "cell_type": "code",
   "execution_count": 1,
   "id": "d00bff3a-7cad-477b-a13a-6fcc265b46d9",
   "metadata": {},
   "outputs": [],
   "source": [
    "from vertexai.language_models import (\n",
    "    TextGenerationModel,\n",
    "    ChatModel,\n",
    "    InputOutputTextPair,\n",
    ")\n",
    "\n",
    "generation_model = TextGenerationModel.from_pretrained(\"text-bison@001\")"
   ]
  },
  {
   "cell_type": "code",
   "execution_count": 2,
   "id": "651ef52c-09fb-47d9-ba7c-bbad100d648a",
   "metadata": {},
   "outputs": [
    {
     "name": "stdout",
     "output_type": "stream",
     "text": [
      "Large language models (LLMs) are artificial neural networks that are trained on massive datasets of text and code. They can be used for a variety of tasks, such as natural language processing (NLP), machine translation, and question answering.\n",
      "\n",
      "LLMs work by representing text as a sequence of numbers. This representation is then fed into the neural network, which learns to predict the next word in the sequence. The network is trained on a massive dataset of text, so it can learn the relationships between words and phrases. This allows the LLM to generate text that is both coherent and informative.\n",
      "\n",
      "LLMs are still under development\n"
     ]
    }
   ],
   "source": [
    "prompt = \"how exactly do large language models work?\"\n",
    "response = generation_model.predict(temperature=0.2,top_p=0.8,top_k=0.1,prompt=prompt)\n",
    "\n",
    "print(response.text)"
   ]
  },
  {
   "cell_type": "code",
   "execution_count": 3,
   "id": "f7d9ec88-70e1-4044-9bff-813cbacfeeb2",
   "metadata": {},
   "outputs": [
    {
     "data": {
      "text/plain": [
       "**Peter Griffin: The Jacket That's Always There for You**\n",
       "\n",
       "Peter Griffin is the kind of guy who always has your back. He's the one who will lend you a helping hand, no matter what. And now, he's the one who will keep you warm and stylish this winter.\n",
       "\n",
       "The Peter Griffin Jacket is made from the finest materials and construction. It's warm, comfortable, and durable. And it's sure to turn heads wherever you go.\n",
       "\n",
       "So if you're looking for a jacket that's as reliable as Peter Griffin himself, look no further. The Peter"
      ]
     },
     "execution_count": 3,
     "metadata": {},
     "output_type": "execute_result"
    }
   ],
   "source": [
    "\n",
    "marketing_prompt = (\n",
    "    \"\"\"Create a marketing campaign for jackets that involves the family guy characters.\n",
    "        Use the character names to make the campaign catchy and funny\"\"\"\n",
    ")\n",
    "response = generation_model.predict(\n",
    "    prompt=marketing_prompt, temperature=0.5, top_p=0.5\n",
    ")\n",
    "\n",
    "response"
   ]
  },
  {
   "cell_type": "code",
   "execution_count": 4,
   "id": "83ab1a11-bd9f-4854-a93e-325cc670c6ab",
   "metadata": {},
   "outputs": [
    {
     "name": "stdout",
     "output_type": "stream",
     "text": [
      "The emotion behind the text is fear. The person is feeling terrified at the zoo, which is a place where people typically feel safe and secure. This suggests that the person is experiencing a high level of fear, which is likely due to a perceived threat or danger.\n"
     ]
    }
   ],
   "source": [
    "input_txt = \"\"\"i felt terrified at the zoo\"\"\"\n",
    "\n",
    "prompt = f\"\"\"Given a piece of text, identify the emotion behind the text and explain why\n",
    "    text: {input_txt}\n",
    "        \"\"\"\n",
    "\n",
    "response = generation_model.predict(\n",
    "        prompt=prompt,\n",
    "        max_output_tokens=256,\n",
    "        temperature=0.1,\n",
    "    )\n",
    "\n",
    "print(response)"
   ]
  },
  {
   "cell_type": "code",
   "execution_count": 5,
   "id": "729164df-2b9c-4010-a812-d92cd30c1fd0",
   "metadata": {},
   "outputs": [],
   "source": [
    "chat_model = ChatModel.from_pretrained(\"chat-bison@001\")"
   ]
  },
  {
   "cell_type": "code",
   "execution_count": 6,
   "id": "56ee9ec0-0f3c-43c6-b4aa-b2bac2892765",
   "metadata": {},
   "outputs": [],
   "source": [
    "context = \"\"\"You are the head of a brand marketing agency.\n",
    "            You manage portfolios of multiple high profile brands.\n",
    "            You are an expert in \n",
    "            creating marketing campaigns across all social media platforms.\n",
    "            \"\"\""
   ]
  },
  {
   "cell_type": "code",
   "execution_count": 7,
   "id": "acc31cc1-b5b1-4926-baf8-8fe36ca44eb3",
   "metadata": {},
   "outputs": [],
   "source": [
    "chat = chat_model.start_chat(\n",
    "    context=context,\n",
    "    examples=[\n",
    "        InputOutputTextPair(\n",
    "            input_text=\"what are you good at?\",\n",
    "            output_text=\"I can help you with different marketing techniques and strategies for your brand.\",\n",
    "        )\n",
    "    ],\n",
    "    temperature=0.3,\n",
    "    max_output_tokens=200,\n",
    "    top_p=0.8,\n",
    "    top_k=40,\n",
    ")"
   ]
  },
  {
   "cell_type": "code",
   "execution_count": 8,
   "id": "129e3109-39e9-4af2-80f8-743b46df4c7d",
   "metadata": {},
   "outputs": [
    {
     "name": "stdout",
     "output_type": "stream",
     "text": [
      "Sure, I can help you with that. Can you tell me a bit more about your brand and what you're looking to achieve?\n"
     ]
    }
   ],
   "source": [
    "prompt_msg = \"can you help me with the marketing strategy for by brand?\"\n",
    "print(chat.send_message(prompt_msg))"
   ]
  },
  {
   "cell_type": "code",
   "execution_count": 9,
   "id": "4ca50fbc-03fc-48eb-894b-f9ba15af6689",
   "metadata": {},
   "outputs": [
    {
     "name": "stdout",
     "output_type": "stream",
     "text": [
      "Great! I can definitely help you with that. Let's start with a bit of research on your target audience.\n"
     ]
    }
   ],
   "source": [
    "prompt_msg = \"Its for my new sneaker store\"\n",
    "print(chat.send_message(prompt_msg))"
   ]
  },
  {
   "cell_type": "code",
   "execution_count": 10,
   "id": "6a6a66b5-3d47-43cf-945f-1765f46fd712",
   "metadata": {},
   "outputs": [
    {
     "name": "stdout",
     "output_type": "stream",
     "text": [
      "Sure, I can help you with that. One of the most important things to consider when marketing your sneaker store is your target audience. Who are you trying to reach? What are their needs and wants? Once you know who you're targeting, you can start to develop marketing strategies that will resonate with them.\n"
     ]
    }
   ],
   "source": [
    "prompt_msg = \"Start with some basic recommendations and strategies\"\n",
    "print(chat.send_message(prompt_msg))"
   ]
  },
  {
   "cell_type": "code",
   "execution_count": null,
   "id": "1fd06d93-29da-4ea2-9748-6f2a5bd89cfd",
   "metadata": {},
   "outputs": [],
   "source": []
  }
 ],
 "metadata": {
  "environment": {
   "kernel": "python3",
   "name": "common-cpu.m110",
   "type": "gcloud",
   "uri": "gcr.io/deeplearning-platform-release/base-cpu:m110"
  },
  "kernelspec": {
   "display_name": "Python 3",
   "language": "python",
   "name": "python3"
  },
  "language_info": {
   "codemirror_mode": {
    "name": "ipython",
    "version": 3
   },
   "file_extension": ".py",
   "mimetype": "text/x-python",
   "name": "python",
   "nbconvert_exporter": "python",
   "pygments_lexer": "ipython3",
   "version": "3.10.12"
  }
 },
 "nbformat": 4,
 "nbformat_minor": 5
}
